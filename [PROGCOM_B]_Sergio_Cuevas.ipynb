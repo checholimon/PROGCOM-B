{
  "nbformat": 4,
  "nbformat_minor": 0,
  "metadata": {
    "colab": {
      "provenance": []
    },
    "kernelspec": {
      "name": "python3",
      "display_name": "Python 3"
    },
    "language_info": {
      "name": "python"
    }
  },
  "cells": [
    {
      "cell_type": "markdown",
      "source": [
        "Sergio Guillermo Cuevas Roa U00174818"
      ],
      "metadata": {
        "id": "njdGAwMFV0Ka"
      }
    },
    {
      "cell_type": "code",
      "source": [
        "# Determinar si un número es par o impar / operador terniario\n",
        "numero = int(input(\"Ingresa un número : \"))\n",
        "print(\"El número es par.\" if numero % 2 == 0 else \"El número es impar.\")\n"
      ],
      "metadata": {
        "colab": {
          "base_uri": "https://localhost:8080/"
        },
        "id": "hDpoZfqFTzPL",
        "outputId": "272573d5-54fc-4c36-ca9d-cb2aedafe08c"
      },
      "execution_count": null,
      "outputs": [
        {
          "output_type": "stream",
          "name": "stdout",
          "text": [
            "Ingresa un número : 79\n",
            "El número es impar.\n"
          ]
        }
      ]
    },
    {
      "cell_type": "code",
      "source": [
        "# Determinar si un año es bisiesto / si-condicional\n",
        "año = int(input(\"Ingresa un año : \"))\n",
        "\n",
        "if (año % 4 == 0 and año % 100 != 0) or (año % 400 == 0):\n",
        "    print(\"El año es bisiesto.\")\n",
        "else:\n",
        "    print(\"El año no es bisiesto.\")\n"
      ],
      "metadata": {
        "colab": {
          "base_uri": "https://localhost:8080/"
        },
        "id": "vmDI-vQET9AN",
        "outputId": "4db30cb4-1a68-430f-d257-8e7ba69092c4"
      },
      "execution_count": 1,
      "outputs": [
        {
          "output_type": "stream",
          "name": "stdout",
          "text": [
            "Ingresa un año : 480000067\n",
            "El año no es bisiesto.\n"
          ]
        }
      ]
    },
    {
      "cell_type": "code",
      "source": [
        "# Determinar si una persona pertenece a la tercera edad / si-condicional\n",
        "nombre = input(\"¿Cuál es tu nombre? \")\n",
        "edad = int(input(\"¿Cuántos años tienes? : \"))\n",
        "\n",
        "if edad >= 70:\n",
        "    print(f\"{nombre}, tienes prioridad en la fila porque eres de la tercera edad.\")\n",
        "else:\n",
        "    print(f\"{nombre}, no tienes prioridad en la fila.\")\n"
      ],
      "metadata": {
        "colab": {
          "base_uri": "https://localhost:8080/"
        },
        "id": "cmPQv_AbUPim",
        "outputId": "821fce93-4d52-455b-e0a6-30b72badd9ba"
      },
      "execution_count": 4,
      "outputs": [
        {
          "output_type": "stream",
          "name": "stdout",
          "text": [
            "¿Cuál es tu nombre? Sergio\n",
            "¿Cuántos años tienes? : 19999\n",
            "Sergio, tienes prioridad en la fila porque eres de la tercera edad.\n"
          ]
        }
      ]
    },
    {
      "cell_type": "code",
      "source": [
        "# Comparar tres números y mostrar el mayor / si-condicional\n",
        "num1 = int(input(\"Ingresa el primer número : \"))\n",
        "num2 = int(input(\"Ingresa el segundo número : \"))\n",
        "num3 = int(input(\"Ingresa el tercer número : \"))\n",
        "\n",
        "if num1 >= num2 and num1 >= num3:\n",
        "    print(f\"El mayor número es: {num1}\")\n",
        "elif num2 >= num1 and num2 >= num3:\n",
        "    print(f\"El mayor número es: {num2}\")\n",
        "else:\n",
        "    print(f\"El mayor número es: {num3}\")\n"
      ],
      "metadata": {
        "colab": {
          "base_uri": "https://localhost:8080/"
        },
        "id": "bsYmxbeVUi56",
        "outputId": "d8a03464-684d-462e-e066-6058583801b4"
      },
      "execution_count": 3,
      "outputs": [
        {
          "output_type": "stream",
          "name": "stdout",
          "text": [
            "Ingresa el primer número : 4\n",
            "Ingresa el segundo número : 7\n",
            "Ingresa el tercer número : 3\n",
            "El mayor número es: 7\n"
          ]
        }
      ]
    },
    {
      "cell_type": "code",
      "source": [
        "# Determinar el tipo de triángulo / switch V1\n",
        "a = int(input(\"Ingresa el primer lado del triángulo : \"))\n",
        "b = int(input(\"Ingresa el segundo lado del triángulo : \"))\n",
        "c = int(input(\"Ingresa el tercer lado del triángulo : \"))\n",
        "4\n",
        "if a == b == c:\n",
        "    print(\"El triángulo es equilátero.\")\n",
        "elif a == b or b == c or a == c:\n",
        "    print(\"El triángulo es isósceles.\")\n",
        "else:\n",
        "    print(\"El triángulo es escaleno.\")\n"
      ],
      "metadata": {
        "colab": {
          "base_uri": "https://localhost:8080/"
        },
        "id": "XalaJEtPUxai",
        "outputId": "fb34849e-8fcb-4233-da7e-65a93ba72f7e"
      },
      "execution_count": 2,
      "outputs": [
        {
          "output_type": "stream",
          "name": "stdout",
          "text": [
            "Ingresa el primer lado del triángulo : 3\n",
            "Ingresa el segundo lado del triángulo : 4\n",
            "Ingresa el tercer lado del triángulo : 6\n",
            "El triángulo es escaleno.\n"
          ]
        }
      ]
    }
  ]
}