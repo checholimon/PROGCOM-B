{
  "nbformat": 4,
  "nbformat_minor": 0,
  "metadata": {
    "colab": {
      "provenance": []
    },
    "kernelspec": {
      "name": "python3",
      "display_name": "Python 3"
    },
    "language_info": {
      "name": "python"
    }
  },
  "cells": [
    {
      "cell_type": "markdown",
      "source": [
        "#SERGIO GUILLERMO CUEVAS ROA - U00174818"
      ],
      "metadata": {
        "id": "4z0DNY11ts76"
      }
    },
    {
      "cell_type": "markdown",
      "source": [
        "#1"
      ],
      "metadata": {
        "id": "ima3MNCwsA_4"
      }
    },
    {
      "cell_type": "code",
      "source": [
        "#PYTHON\n",
        "class Animal:\n",
        "    def hacer_sonido(self):\n",
        "        pass\n",
        "\n",
        "class Perro(Animal):\n",
        "    def hacer_sonido(self):\n",
        "        print(\"¡Guau!\")\n",
        "\n",
        "class Gato(Animal):\n",
        "    def hacer_sonido(self):\n",
        "        print(\"¡Miau!\")"
      ],
      "metadata": {
        "id": "PivO_9AJsD1I"
      },
      "execution_count": null,
      "outputs": []
    },
    {
      "cell_type": "code",
      "source": [
        "#JAVA\n",
        "class Animal {\n",
        "    void hacerSonido() {}\n",
        "}\n",
        "\n",
        "class Perro extends Animal {\n",
        "    void hacerSonido() {\n",
        "        System.out.println(\"¡Guau!\");\n",
        "    }\n",
        "}\n",
        "\n",
        "class Gato extends Animal {\n",
        "    void hacerSonido() {\n",
        "        System.out.println(\"¡Miau!\");\n",
        "    }\n",
        "}"
      ],
      "metadata": {
        "id": "7yQWtvZFsGV4"
      },
      "execution_count": null,
      "outputs": []
    },
    {
      "cell_type": "markdown",
      "source": [
        "#2"
      ],
      "metadata": {
        "id": "UU2DrAPwsHzn"
      }
    },
    {
      "cell_type": "code",
      "source": [
        "#PYTHON\n",
        "import math\n",
        "\n",
        "class Forma:\n",
        "    def calcular_area(self):\n",
        "        pass\n",
        "\n",
        "class Circulo(Forma):\n",
        "    def __init__(self, radio):\n",
        "        self.radio = radio\n",
        "\n",
        "    def calcular_area(self):\n",
        "        return math.pi * self.radio**2\n",
        "\n",
        "class Rectangulo(Forma):\n",
        "    def __init__(self, ancho, alto):\n",
        "        self.ancho = ancho\n",
        "        self.alto = alto\n",
        "\n",
        "    def calcular_area(self):\n",
        "        return self.ancho * self.alto"
      ],
      "metadata": {
        "id": "pAtQS03UsIm_"
      },
      "execution_count": null,
      "outputs": []
    },
    {
      "cell_type": "code",
      "source": [
        "#JAVA\n",
        "abstract class Forma {\n",
        "    abstract double calcularArea();\n",
        "}\n",
        "\n",
        "class Circulo extends Forma {\n",
        "    double radio;\n",
        "\n",
        "    Circulo(double radio) {\n",
        "        this.radio = radio;\n",
        "    }\n",
        "\n",
        "    double calcularArea() {\n",
        "        return Math.PI * radio * radio;\n",
        "    }\n",
        "}\n",
        "\n",
        "class Rectangulo extends Forma {\n",
        "    double ancho, alto;\n",
        "\n",
        "    Rectangulo(double ancho, double alto) {\n",
        "        this.ancho = ancho;\n",
        "        this.alto = alto;\n",
        "    }\n",
        "\n",
        "    double calcularArea() {\n",
        "        return ancho * alto;\n",
        "    }\n",
        "}"
      ],
      "metadata": {
        "id": "qtvIN4eOsN0H"
      },
      "execution_count": null,
      "outputs": []
    },
    {
      "cell_type": "markdown",
      "source": [
        "#3"
      ],
      "metadata": {
        "id": "QWess4wxsOkQ"
      }
    },
    {
      "cell_type": "code",
      "source": [
        "#PYTHON\n",
        "import math\n",
        "\n",
        "class Forma:\n",
        "    def calcular_area(self):\n",
        "        pass\n",
        "\n",
        "class Circulo(Forma):\n",
        "    def __init__(self, radio):\n",
        "        self.radio = radio\n",
        "\n",
        "    def calcular_area(self):\n",
        "        return math.pi * self.radio ** 2\n",
        "\n",
        "class Rectangulo(Forma):\n",
        "    def __init__(self, ancho, alto):\n",
        "        self.ancho = ancho\n",
        "        self.alto = alto\n",
        "\n",
        "    def calcular_area(self):\n",
        "        return self.ancho * self.alto\n",
        "\n",
        "# Ejemplo de uso:\n",
        "forma1 = Circulo(5)\n",
        "forma2 = Rectangulo(4, 6)\n",
        "\n",
        "print(\"Área del círculo:\", forma1.calcular_area())\n",
        "print(\"Área del rectángulo:\", forma2.calcular_area())\n"
      ],
      "metadata": {
        "id": "e8EkVgd8sPs3"
      },
      "execution_count": null,
      "outputs": []
    },
    {
      "cell_type": "code",
      "source": [
        "#JAVA\n",
        "abstract class Forma {\n",
        "    abstract double calcularArea();\n",
        "}\n",
        "\n",
        "class Circulo extends Forma {\n",
        "    private double radio;\n",
        "\n",
        "    public Circulo(double radio) {\n",
        "        this.radio = radio;\n",
        "    }\n",
        "\n",
        "    public double calcularArea() {\n",
        "        return Math.PI * radio * radio;\n",
        "    }\n",
        "}\n",
        "\n",
        "class Rectangulo extends Forma {\n",
        "    private double ancho;\n",
        "    private double alto;\n",
        "\n",
        "    public Rectangulo(double ancho, double alto) {\n",
        "        this.ancho = ancho;\n",
        "        this.alto = alto;\n",
        "    }\n",
        "\n",
        "    public double calcularArea() {\n",
        "        return ancho * alto;\n",
        "    }\n",
        "}\n",
        "\n",
        "public class Main {\n",
        "    public static void main(String[] args) {\n",
        "        Forma f1 = new Circulo(5);\n",
        "        Forma f2 = new Rectangulo(4, 6);\n",
        "\n",
        "        System.out.println(\"Área del círculo: \" + f1.calcularArea());\n",
        "        System.out.println(\"Área del rectángulo: \" + f2.calcularArea());\n",
        "    }\n",
        "}"
      ],
      "metadata": {
        "id": "vuKhdn9UsQoX"
      },
      "execution_count": null,
      "outputs": []
    },
    {
      "cell_type": "markdown",
      "source": [
        "#4"
      ],
      "metadata": {
        "id": "Ye8BPVfTsRn3"
      }
    },
    {
      "cell_type": "code",
      "source": [
        "#PYTHON\n",
        "class Calculadora:\n",
        "    def operar(self, a, b, operacion='sumar'):\n",
        "        if operacion == 'sumar':\n",
        "            return a + b\n",
        "        elif operacion == 'multiplicar':\n",
        "            return a * b"
      ],
      "metadata": {
        "id": "6F7qsLBjsSWn"
      },
      "execution_count": null,
      "outputs": []
    },
    {
      "cell_type": "code",
      "source": [
        "#JAVA\n",
        "class Calculadora {\n",
        "    int operar(int a, int b) {\n",
        "        return a + b;\n",
        "    }\n",
        "\n",
        "    int operar(int a, int b, boolean multiplicar) {\n",
        "        return multiplicar ? a * b : a + b;\n",
        "    }\n",
        "}"
      ],
      "metadata": {
        "id": "bFlUhjTisTYH"
      },
      "execution_count": null,
      "outputs": []
    },
    {
      "cell_type": "markdown",
      "source": [
        "#5"
      ],
      "metadata": {
        "id": "7Xyp1pbwsUiP"
      }
    },
    {
      "cell_type": "code",
      "source": [
        "#PYTHON\n",
        "class Figura:\n",
        "    def dibujar(self):\n",
        "        print(\"Dibujando figura\")\n",
        "\n",
        "class Circulo(Figura):\n",
        "    def dibujar(self):\n",
        "        print(\"Dibujando círculo\")\n",
        "\n",
        "class Rectangulo(Figura):\n",
        "    def dibujar(self):\n",
        "        print(\"Dibujando rectángulo\")"
      ],
      "metadata": {
        "id": "sdW7sABBsVRH"
      },
      "execution_count": null,
      "outputs": []
    },
    {
      "cell_type": "code",
      "source": [
        "#JAVA\n",
        "class Figura {\n",
        "    void dibujar() {\n",
        "        System.out.println(\"Dibujando figura\");\n",
        "    }\n",
        "}\n",
        "\n",
        "class Circulo extends Figura {\n",
        "    void dibujar() {\n",
        "        System.out.println(\"Dibujando círculo\");\n",
        "    }\n",
        "}\n",
        "\n",
        "class Rectangulo extends Figura {\n",
        "    void dibujar() {\n",
        "        System.out.println(\"Dibujando rectángulo\");\n",
        "    }\n",
        "}"
      ],
      "metadata": {
        "id": "8WNuoWBxsWQ3"
      },
      "execution_count": null,
      "outputs": []
    },
    {
      "cell_type": "markdown",
      "source": [
        "#6"
      ],
      "metadata": {
        "id": "Q1NIlJg_sXP3"
      }
    },
    {
      "cell_type": "code",
      "source": [
        "#PYTHON\n",
        "class Empleado:\n",
        "    def trabajar(self):\n",
        "        pass\n",
        "\n",
        "class Gerente(Empleado):\n",
        "    def trabajar(self):\n",
        "        print(\"Gestionando el equipo.\")\n",
        "\n",
        "class Desarrollador(Empleado):\n",
        "    def trabajar(self):\n",
        "        print(\"Escribiendo código.\")"
      ],
      "metadata": {
        "id": "5xKADY5LsX6u"
      },
      "execution_count": null,
      "outputs": []
    },
    {
      "cell_type": "code",
      "source": [
        "#JAVA\n",
        "class Empleado {\n",
        "    void trabajar() {}\n",
        "}\n",
        "\n",
        "class Gerente extends Empleado {\n",
        "    void trabajar() {\n",
        "        System.out.println(\"Gestionando el equipo.\");\n",
        "    }\n",
        "}\n",
        "\n",
        "class Desarrollador extends Empleado {\n",
        "    void trabajar() {\n",
        "        System.out.println(\"Escribiendo código.\");\n",
        "    }\n",
        "}"
      ],
      "metadata": {
        "id": "JGWZHGyQsY2-"
      },
      "execution_count": null,
      "outputs": []
    },
    {
      "cell_type": "markdown",
      "source": [
        "#7"
      ],
      "metadata": {
        "id": "Ew-31eUktHY1"
      }
    },
    {
      "cell_type": "code",
      "source": [
        "#PYTHON\n",
        "class Fruta:\n",
        "    def describir(self):\n",
        "        pass\n",
        "\n",
        "class Manzana(Fruta):\n",
        "    def describir(self):\n",
        "        print(\"Soy una manzana, dulce y roja.\")\n",
        "\n",
        "class Naranja(Fruta):\n",
        "    def describir(self):\n",
        "        print(\"Soy una naranja, cítrica y jugosa.\")"
      ],
      "metadata": {
        "id": "nkbStRZytIP9"
      },
      "execution_count": null,
      "outputs": []
    },
    {
      "cell_type": "code",
      "source": [
        "#JAVA\n",
        "class Fruta {\n",
        "    void describir() {}\n",
        "}\n",
        "\n",
        "class Manzana extends Fruta {\n",
        "    void describir() {\n",
        "        System.out.println(\"Soy una manzana, dulce y roja.\");\n",
        "    }\n",
        "}\n",
        "\n",
        "class Naranja extends Fruta {\n",
        "    void describir() {\n",
        "        System.out.println(\"Soy una naranja, cítrica y jugosa.\");\n",
        "    }\n",
        "}"
      ],
      "metadata": {
        "id": "fwmN6zTotKMk"
      },
      "execution_count": null,
      "outputs": []
    },
    {
      "cell_type": "markdown",
      "source": [
        "#8"
      ],
      "metadata": {
        "id": "B07ZeVrTtK3N"
      }
    },
    {
      "cell_type": "code",
      "source": [
        "#PYTHON\n",
        "class PaisCapital:\n",
        "    def __init__(self, pais, capital):\n",
        "        self.pais = pais\n",
        "        self.capital = capital\n",
        "\n",
        "    def describir(self):\n",
        "        print(f\"La capital de {self.pais} es {self.capital}.\")"
      ],
      "metadata": {
        "id": "FonoRGTJtLtW"
      },
      "execution_count": null,
      "outputs": []
    },
    {
      "cell_type": "code",
      "source": [
        "#JAVA\n",
        "class PaisCapital {\n",
        "    String pais;\n",
        "    String capital;\n",
        "\n",
        "    PaisCapital(String pais, String capital) {\n",
        "        this.pais = pais;\n",
        "        this.capital = capital;\n",
        "    }\n",
        "}"
      ],
      "metadata": {
        "id": "KlU9flb9tNFV"
      },
      "execution_count": null,
      "outputs": []
    },
    {
      "cell_type": "markdown",
      "source": [
        "#9"
      ],
      "metadata": {
        "id": "7Fi30-o4tN6U"
      }
    },
    {
      "cell_type": "code",
      "source": [
        "#PYTHON\n",
        "class Pais:\n",
        "    def idioma(self):\n",
        "        pass\n",
        "\n",
        "class Mexico(Pais):\n",
        "    def idioma(self):\n",
        "        return \"Español\"\n",
        "\n",
        "class Alemania(Pais):\n",
        "    def idioma(self):\n",
        "        return \"Alemán\""
      ],
      "metadata": {
        "id": "seHA6BhKtOzF"
      },
      "execution_count": null,
      "outputs": []
    },
    {
      "cell_type": "code",
      "source": [
        "#JAVA\n",
        "class Pais {\n",
        "    String idioma() {\n",
        "        return \"\";\n",
        "    }\n",
        "}\n",
        "\n",
        "class Mexico extends Pais {\n",
        "    String idioma() {\n",
        "        return \"Español\";\n",
        "    }\n",
        "}\n",
        "\n",
        "class Alemania extends Pais {\n",
        "    String idioma() {\n",
        "        return \"Alemán\";\n",
        "    }\n",
        "}"
      ],
      "metadata": {
        "id": "B0neMj4BtQTM"
      },
      "execution_count": null,
      "outputs": []
    },
    {
      "cell_type": "markdown",
      "source": [
        "#10"
      ],
      "metadata": {
        "id": "vRCZzAHktRHN"
      }
    },
    {
      "cell_type": "code",
      "source": [
        "#PYTHON\n",
        "class Vehiculo:\n",
        "    def moverse(self):\n",
        "        pass\n",
        "\n",
        "class Carro(Vehiculo):\n",
        "    def moverse(self):\n",
        "        print(\"El carro se mueve con motor.\")\n",
        "\n",
        "class Bicicleta(Vehiculo):\n",
        "    def moverse(self):\n",
        "        print(\"La bicicleta se mueve con pedales.\")"
      ],
      "metadata": {
        "id": "Uw7tawsgtR4U"
      },
      "execution_count": null,
      "outputs": []
    },
    {
      "cell_type": "code",
      "source": [
        "#JAVA\n",
        "class Vehiculo {\n",
        "    void moverse() {}\n",
        "}\n",
        "\n",
        "class Carro extends Vehiculo {\n",
        "    void moverse() {\n",
        "        System.out.println(\"El carro se mueve con motor.\");\n",
        "    }\n",
        "}\n",
        "\n",
        "class Bicicleta extends Vehiculo {\n",
        "    void moverse() {\n",
        "        System.out.println(\"La bicicleta se mueve con pedales.\");\n",
        "    }\n",
        "}"
      ],
      "metadata": {
        "id": "N_LJsHAHtTUc"
      },
      "execution_count": null,
      "outputs": []
    }
  ]
}