{
  "nbformat": 4,
  "nbformat_minor": 0,
  "metadata": {
    "colab": {
      "provenance": []
    },
    "kernelspec": {
      "name": "python3",
      "display_name": "Python 3"
    },
    "language_info": {
      "name": "python"
    }
  },
  "cells": [
    {
      "cell_type": "code",
      "execution_count": 1,
      "metadata": {
        "colab": {
          "base_uri": "https://localhost:8080/"
        },
        "id": "X2Hutpr2flKk",
        "outputId": "ac6b1c1b-cd31-479b-858e-f4a3b85c57e4"
      },
      "outputs": [
        {
          "output_type": "stream",
          "name": "stdout",
          "text": [
            "Números divisibles por 6 del 1 al 60: [6, 12, 18, 24, 30, 36, 42, 48, 54, 60]\n"
          ]
        }
      ],
      "source": [
        "#1. Todos los numeros divisibles por 6 del 1 al 60.\n",
        "\n",
        "numeros_divisibles_por_6 = [n for n in range(1, 61) if n % 6 == 0]\n",
        "print(\"Números divisibles por 6 del 1 al 60:\", numeros_divisibles_por_6)"
      ]
    },
    {
      "cell_type": "code",
      "source": [
        "#2. Todos los nombres que empiecen por \"A\" en una lista de nombres.\n",
        " #  Lista de nombres\n",
        "nombres = [\"Ana\", \"Pedro\", \"Andres\", \"María\", \"Antonio\", \"Luis\", \"Alejandra\", \"Jorge\"]"
      ],
      "metadata": {
        "id": "4KBSO8F1h8Q5"
      },
      "execution_count": 2,
      "outputs": []
    },
    {
      "cell_type": "code",
      "source": [
        "# Todos los nombres que comiencen por \"A\"\n",
        "nombres_comienzan_con_A = [nombre for nombre in nombres if nombre.startswith(\"A\")]\n",
        "print(\"Nombres que comienzan con 'A':\", nombres_comienzan_con_A)"
      ],
      "metadata": {
        "colab": {
          "base_uri": "https://localhost:8080/"
        },
        "id": "c0TkKT_bjIbs",
        "outputId": "432670a2-ba8b-4ea2-a6ee-b11d348a8f65"
      },
      "execution_count": 3,
      "outputs": [
        {
          "output_type": "stream",
          "name": "stdout",
          "text": [
            "Nombres que comienzan con 'A': ['Ana', 'Andres', 'Antonio', 'Alejandra']\n"
          ]
        }
      ]
    },
    {
      "cell_type": "code",
      "source": [
        "#3. Todos los números primos entre 0 y 70\n",
        " # Función para verificar si un número es primo\n",
        "def es_primo(n):\n",
        "  if n < 2:\n",
        "    return False\n",
        "  return all(n % i != 0 for i in range(2, int(n ** 0.5) + 1))"
      ],
      "metadata": {
        "id": "Rt_lvYw1jV7Y"
      },
      "execution_count": 7,
      "outputs": []
    },
    {
      "cell_type": "code",
      "source": [
        "# Números primos\n",
        "numeros_primos = [n for n in range(71) if es_primo(n)]\n",
        "print(\"Números primos entre 0 y 70:\", numeros_primos)"
      ],
      "metadata": {
        "colab": {
          "base_uri": "https://localhost:8080/"
        },
        "id": "DkH3PkOykCFj",
        "outputId": "2109ef88-5b80-4055-d86c-d0d1d1e518d1"
      },
      "execution_count": 8,
      "outputs": [
        {
          "output_type": "stream",
          "name": "stdout",
          "text": [
            "Números primos entre 0 y 70: [2, 3, 5, 7, 11, 13, 17, 19, 23, 29, 31, 37, 41, 43, 47, 53, 59, 61, 67]\n"
          ]
        }
      ]
    }
  ]
}