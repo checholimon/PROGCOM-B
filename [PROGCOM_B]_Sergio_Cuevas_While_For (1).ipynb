{
  "nbformat": 4,
  "nbformat_minor": 0,
  "metadata": {
    "colab": {
      "provenance": []
    },
    "kernelspec": {
      "name": "python3",
      "display_name": "Python 3"
    },
    "language_info": {
      "name": "python"
    }
  },
  "cells": [
    {
      "cell_type": "code",
      "source": [
        "#Programa que determine la calificación en letras (A, B, C, D, F) según una nota numérica (0-100).\n",
        "for C in range(1,4):\n",
        "  C1=input(print(\"Ingrese su nota\"))\n",
        "  if C1==\"A\":\n",
        "    print(\"Su nota es:\")\n",
        "    print(\"100\")\n",
        "  elif C1==\"B\":\n",
        "    print(\"Su nota es:\")\n",
        "    print(\"80\")\n",
        "  elif C1==\"C\":\n",
        "    print(\"Su nota es:\")\n",
        "    print(\"60\")\n",
        "  elif C1==\"D\":\n",
        "    print(\"Su nota es:\")\n",
        "    print(\"40\")\n",
        "  elif C1==\"F\":\n",
        "    print(\"Su nota es:\")\n",
        "    print(\"20\")\n",
        "  else:\n",
        "    print(\"Error\")"
      ],
      "metadata": {
        "id": "EziclLL_rPNm"
      },
      "execution_count": null,
      "outputs": []
    },
    {
      "cell_type": "code",
      "execution_count": 11,
      "metadata": {
        "colab": {
          "base_uri": "https://localhost:8080/"
        },
        "id": "HV0IDwtGinrh",
        "outputId": "94980645-a18b-4a14-98ac-bb7b0da834bb"
      },
      "outputs": [
        {
          "output_type": "stream",
          "name": "stdout",
          "text": [
            "Ingresa un número del uno al 7: 6\n",
            "El dia correspondiente de la semana es Sabado\n"
          ]
        }
      ],
      "source": [
        "#Programa que determine el número de la semana / For\n",
        "dias_semana = [\"Lunes\", \"Martes\", \"Miercoles\", \"Jueves\", \"Viernes\", \"Sabado\", \"Domingo\"]\n",
        "\n",
        "num = int(input(\"Ingresa un número del uno al 7: \"))\n",
        "\n",
        "if 1 <= num <= 7:\n",
        "  for i in range (1,8):\n",
        "    if num == i:\n",
        "        print(f\"El dia correspondiente de la semana es {dias_semana[i-1]}\")\n",
        "        break\n",
        "\n",
        "else:\n",
        "  print(\"Numero fuera del rango solicitado\")"
      ]
    },
    {
      "cell_type": "code",
      "source": [
        "#Programa que valide si tres numero pueden formar un triangulo y de que tipo / while\n",
        "lado1 = 0\n",
        "while lado1 <= 0:\n",
        "  lado1 = int(input(\"Ingresa el primer lado: \"))\n",
        "  if lado1 <= 0:\n",
        "    print(\"El lado debe ser mayor a 0\")\n",
        "\n",
        "lado2 = 0\n",
        "while lado2 <= 0:\n",
        "  lado2 = int(input(\"Ingresa el segundo lado: \"))\n",
        "  if lado2 <= 0:\n",
        "    print(\"El lado debe ser mayor a 0\")\n",
        "\n",
        "lado3 = 0\n",
        "while lado3 <= 0:\n",
        "  lado3 = int(input(\"Ingresa el tercer lado: \"))\n",
        "  if lado3 <= 0:\n",
        "    print(\"El lado debe ser mayor a 0\")\n",
        "\n",
        "if(lado1 + lado2 > lado3 and lado1 + lado3 > lado2 and lado2 + lado3 > lado1):\n",
        "  print(\"Se puede formar un triangulo\")\n",
        "  if(lado1 == lado2 and lado2 == lado3):\n",
        "    print(\"El triangulo es equilatero\")\n",
        "  elif(lado1 == lado2 or lado1 == lado3 or lado2 == lado3):\n",
        "    print(\"El triangulo es isoceles\")\n",
        "  else:\n",
        "    print(\"El triangulo es escaleno\")\n",
        "else:\n",
        "  print(\"No se puede formar un triangulo\")\n",
        "\n"
      ],
      "metadata": {
        "colab": {
          "base_uri": "https://localhost:8080/"
        },
        "id": "Zz3BP2b5mMlZ",
        "outputId": "9fb2e11f-8366-46d5-a584-07635dfdc292"
      },
      "execution_count": 12,
      "outputs": [
        {
          "output_type": "stream",
          "name": "stdout",
          "text": [
            "Ingresa el primer lado: 3\n",
            "Ingresa el segundo lado: 4\n",
            "Ingresa el tercer lado: 5\n",
            "Se puede formar un triangulo\n",
            "El triangulo es escaleno\n"
          ]
        }
      ]
    },
    {
      "cell_type": "code",
      "source": [
        "#Programa que muestre la tabla de multiplicar de un número hasta el 10 / for\n",
        "numero = int(input(\"ingrese un numero para ver su tabla \"))\n",
        "print (f\"Tabla del {numero}:\")\n",
        "for i in range(1,11):\n",
        "  print(f\"{numero} x {i} = {numero * i}\")"
      ],
      "metadata": {
        "colab": {
          "base_uri": "https://localhost:8080/"
        },
        "id": "tH4y4aJBoCWQ",
        "outputId": "d49dace3-0318-4579-f399-0a5f7224f45f"
      },
      "execution_count": 16,
      "outputs": [
        {
          "output_type": "stream",
          "name": "stdout",
          "text": [
            "ingrese un numero para ver su tabla 7\n",
            "Tabla del 7:\n",
            "7 x 1 = 7\n",
            "7 x 2 = 14\n",
            "7 x 3 = 21\n",
            "7 x 4 = 28\n",
            "7 x 5 = 35\n",
            "7 x 6 = 42\n",
            "7 x 7 = 49\n",
            "7 x 8 = 56\n",
            "7 x 9 = 63\n",
            "7 x 10 = 70\n"
          ]
        }
      ]
    },
    {
      "cell_type": "code",
      "source": [],
      "metadata": {
        "id": "rECku_mGp-k-"
      },
      "execution_count": null,
      "outputs": []
    }
  ]
}