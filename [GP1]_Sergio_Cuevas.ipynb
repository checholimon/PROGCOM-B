{
  "nbformat": 4,
  "nbformat_minor": 0,
  "metadata": {
    "colab": {
      "provenance": []
    },
    "kernelspec": {
      "name": "python3",
      "display_name": "Python 3"
    },
    "language_info": {
      "name": "python"
    }
  },
  "cells": [
    {
      "cell_type": "code",
      "execution_count": 4,
      "metadata": {
        "id": "kjgptRYOvdEA"
      },
      "outputs": [],
      "source": [
        "!pip install gradio --quiet"
      ]
    },
    {
      "cell_type": "code",
      "source": [
        "import gradio as gr\n",
        "import random\n",
        "\n",
        "# Opciones con emojis\n",
        "opciones = {\n",
        "    \"Piedra\": \"🪨\",\n",
        "    \"Papel\": \"📄\",\n",
        "    \"Tijera\": \"✂️\",\n",
        "    \"Lagarto\": \"🦎\",\n",
        "    \"Spock\": \"🖖\",\n",
        "    \"Pistola\": \"🔫\",\n",
        "    \"Rayo\": \"⚡\"\n",
        "}\n",
        "\n",
        "# Reglas del juego extendido con Rayo\n",
        "def determinar_ganador(jugador1, jugador2):\n",
        "    if jugador1 == jugador2:\n",
        "        return f\"🤝 ¡Empate!\\n\\nTú elegiste {opciones[jugador1]} ({jugador1})\\nLa computadora eligió {opciones[jugador2]} ({jugador2})\"\n",
        "\n",
        "    gana_jugador1 = (\n",
        "        # Piedra gana a Tijera y Lagarto\n",
        "        (jugador1 == \"Piedra\" and (jugador2 == \"Tijera\" or jugador2 == \"Lagarto\")) or\n",
        "        # Papel gana a Piedra, Spock y Pistola\n",
        "        (jugador1 == \"Papel\" and (jugador2 == \"Piedra\" or jugador2 == \"Spock\" or jugador2 == \"Pistola\")) or\n",
        "        # Tijera gana a Papel y Lagarto\n",
        "        (jugador1 == \"Tijera\" and (jugador2 == \"Papel\" or jugador2 == \"Lagarto\")) or\n",
        "        # Lagarto gana a Spock y Papel\n",
        "        (jugador1 == \"Lagarto\" and (jugador2 == \"Spock\" or jugador2 == \"Papel\")) or\n",
        "        # Spock gana a Tijera y Piedra\n",
        "        (jugador1 == \"Spock\" and (jugador2 == \"Tijera\" or jugador2 == \"Piedra\")) or\n",
        "        # Pistola gana a Piedra, Tijera y Lagarto\n",
        "        (jugador1 == \"Pistola\" and (jugador2 == \"Piedra\" or jugador2 == \"Tijera\" or jugador2 == \"Lagarto\")) or\n",
        "        # Rayo gana a Pistola, Spock y Tijera\n",
        "        (jugador1 == \"Rayo\" and (jugador2 == \"Pistola\" or jugador2 == \"Spock\" or jugador2 == \"Tijera\"))\n",
        "    )\n",
        "\n",
        "    if gana_jugador1:\n",
        "        return f\"🎉 ¡Tú ganas!\\n\\nTú elegiste {opciones[jugador1]} ({jugador1})\\nLa computadora eligió {opciones[jugador2]} ({jugador2})\"\n",
        "    else:\n",
        "        return f\"💻 La computadora gana\\n\\nTú elegiste {opciones[jugador1]} ({jugador1})\\nLa computadora eligió {opciones[jugador2]} ({jugador2})\"\n",
        "\n",
        "def jugar(eleccion_jugador):\n",
        "    eleccion_computadora = random.choice(list(opciones.keys()))\n",
        "    resultado = determinar_ganador(eleccion_jugador, eleccion_computadora)\n",
        "    return resultado\n",
        "\n",
        "gr.Interface(\n",
        "    fn=jugar,\n",
        "    inputs=gr.Radio(choices=list(opciones.keys()), label=\"Elige tu jugada\", info=\"¡Selecciona una opción!\"),\n",
        "    outputs=gr.Textbox(label=\"Resultado\"),\n",
        "    title=\"🪨📄✂️🦎🖖🔫⚡ Piedra, Papel, Tijera, Lagarto, Spock, Pistola y Rayo\",\n",
        "    description=\"Juega contra la computadora. ¡Elige tu opción y mira quién gana!\"\n",
        ").launch(share=True)\n"
      ],
      "metadata": {
        "colab": {
          "base_uri": "https://localhost:8080/",
          "height": 596
        },
        "id": "TlcYVnPmwFyg",
        "outputId": "b94aff1b-76f5-4af3-fe6f-ec8703dfd0de"
      },
      "execution_count": 3,
      "outputs": [
        {
          "output_type": "stream",
          "name": "stdout",
          "text": [
            "Colab notebook detected. To show errors in colab notebook, set debug=True in launch()\n",
            "* Running on public URL: https://081bccf1bcb9444350.gradio.live\n",
            "\n",
            "This share link expires in 72 hours. For free permanent hosting and GPU upgrades, run `gradio deploy` from the terminal in the working directory to deploy to Hugging Face Spaces (https://huggingface.co/spaces)\n"
          ]
        },
        {
          "output_type": "display_data",
          "data": {
            "text/plain": [
              "<IPython.core.display.HTML object>"
            ],
            "text/html": [
              "<div><iframe src=\"https://081bccf1bcb9444350.gradio.live\" width=\"100%\" height=\"500\" allow=\"autoplay; camera; microphone; clipboard-read; clipboard-write;\" frameborder=\"0\" allowfullscreen></iframe></div>"
            ]
          },
          "metadata": {}
        },
        {
          "output_type": "execute_result",
          "data": {
            "text/plain": []
          },
          "metadata": {},
          "execution_count": 3
        }
      ]
    }
  ]
}