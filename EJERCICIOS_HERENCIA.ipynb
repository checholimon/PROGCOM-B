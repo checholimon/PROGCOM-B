{
  "nbformat": 4,
  "nbformat_minor": 0,
  "metadata": {
    "colab": {
      "provenance": []
    },
    "kernelspec": {
      "name": "python3",
      "display_name": "Python 3"
    },
    "language_info": {
      "name": "python"
    }
  },
  "cells": [
    {
      "cell_type": "markdown",
      "source": [
        "PYTHON"
      ],
      "metadata": {
        "id": "VBNaqcW79bWv"
      }
    },
    {
      "cell_type": "code",
      "source": [
        "# 1\n",
        "class Animal:\n",
        "    def hablar(self):\n",
        "        print(\"Este es un animal\")\n",
        "\n",
        "class Perro(Animal):\n",
        "    pass\n",
        "\n",
        "perro = Perro()\n",
        "perro.hablar()"
      ],
      "metadata": {
        "colab": {
          "base_uri": "https://localhost:8080/"
        },
        "id": "hrBDm6un9hKP",
        "outputId": "877feb70-0781-4ef8-fed9-14c78e11f037"
      },
      "execution_count": 1,
      "outputs": [
        {
          "output_type": "stream",
          "name": "stdout",
          "text": [
            "Este es un animal\n"
          ]
        }
      ]
    },
    {
      "cell_type": "code",
      "source": [
        "# 2\n",
        "class Persona:\n",
        "    def __init__(self, nombre):\n",
        "        self.nombre = nombre\n",
        "\n",
        "class Estudiante(Persona):\n",
        "    pass\n",
        "\n",
        "est = Estudiante(\"Laura\")\n",
        "print(est.nombre)"
      ],
      "metadata": {
        "id": "uKKDZm9B9jQv"
      },
      "execution_count": null,
      "outputs": []
    },
    {
      "cell_type": "code",
      "source": [
        "# 3\n",
        "class Vehiculo:\n",
        "    def arrancar(self):\n",
        "        print(\"Vehículo encendido\")\n",
        "\n",
        "class Moto(Vehiculo):\n",
        "    def arrancar(self):\n",
        "        print(\"Moto encendida\")\n",
        "\n",
        "moto = Moto()\n",
        "moto.arrancar()"
      ],
      "metadata": {
        "id": "ME22DE8S9lEf"
      },
      "execution_count": null,
      "outputs": []
    },
    {
      "cell_type": "code",
      "source": [
        "# 4\n",
        "class Empleado:\n",
        "    def trabajar(self):\n",
        "        print(\"Empleado trabajando\")\n",
        "\n",
        "class Gerente(Empleado):\n",
        "    def trabajar(self):\n",
        "        print(\"Gerente organizando\")\n",
        "\n",
        "class Obrero(Empleado):\n",
        "    def trabajar(self):\n",
        "        print(\"Obrero construyendo\")\n",
        "\n",
        "g = Gerente()\n",
        "o = Obrero()\n",
        "g.trabajar()\n",
        "o.trabajar()"
      ],
      "metadata": {
        "id": "6VslTKwL9lsn"
      },
      "execution_count": null,
      "outputs": []
    },
    {
      "cell_type": "code",
      "source": [
        "# 5\n",
        "class Producto:\n",
        "    def __init__(self, nombre, precio):\n",
        "        self.nombre = nombre\n",
        "        self.precio = precio\n",
        "\n",
        "class Libro(Producto):\n",
        "    pass\n",
        "\n",
        "libro = Libro(\"Python Básico\", 45000)\n",
        "print(f\"Nombre: {libro.nombre}, Precio: {libro.precio}\")"
      ],
      "metadata": {
        "id": "FJeqHuY89ntX"
      },
      "execution_count": null,
      "outputs": []
    },
    {
      "cell_type": "code",
      "source": [
        "# 6\n",
        "class Persona:\n",
        "    def saludar(self):\n",
        "        print(\"Hola\")\n",
        "\n",
        "class Profesor(Persona):\n",
        "    def enseñar(self):\n",
        "        print(\"Estoy enseñando\")\n",
        "\n",
        "profe = Profesor()\n",
        "profe.saludar()\n",
        "profe.enseñar()"
      ],
      "metadata": {
        "id": "7PsHfwuq9ptn"
      },
      "execution_count": null,
      "outputs": []
    },
    {
      "cell_type": "code",
      "source": [
        "# 7\n",
        "class Animal:\n",
        "    def sonido(self):\n",
        "        print(\"Sonido genérico\")\n",
        "\n",
        "class Gato(Animal):\n",
        "    def sonido(self):\n",
        "        super().sonido()\n",
        "        print(\"Miau\")\n",
        "\n",
        "gato = Gato()\n",
        "gato.sonido()"
      ],
      "metadata": {
        "id": "mRWZsNrE9r7_"
      },
      "execution_count": null,
      "outputs": []
    },
    {
      "cell_type": "code",
      "source": [
        "# 8\n",
        "class Computadora:\n",
        "    def encender(self):\n",
        "        print(\"Encendiendo computadora\")\n",
        "\n",
        "class Portatil(Computadora):\n",
        "    pass\n",
        "\n",
        "laptop = Portatil()\n",
        "laptop.encender()"
      ],
      "metadata": {
        "id": "HjhHTv259s4v"
      },
      "execution_count": null,
      "outputs": []
    },
    {
      "cell_type": "code",
      "source": [
        "# 9\n",
        "class Cuenta:\n",
        "    def __init__(self, saldo):\n",
        "        self.saldo = saldo\n",
        "\n",
        "class CuentaAhorro(Cuenta):\n",
        "    pass\n",
        "\n",
        "cuenta = CuentaAhorro(100000)\n",
        "print(f\"Saldo: {cuenta.saldo}\")"
      ],
      "metadata": {
        "id": "AcdyHhOO9u53"
      },
      "execution_count": null,
      "outputs": []
    },
    {
      "cell_type": "code",
      "source": [
        "# 10\n",
        "class SerVivo:\n",
        "    def respirar(self):\n",
        "        print(\"Respirando...\")\n",
        "\n",
        "class Humano(SerVivo):\n",
        "    pass\n",
        "\n",
        "persona = Humano()\n",
        "persona.respirar()"
      ],
      "metadata": {
        "id": "dYHHxZPg9xbn"
      },
      "execution_count": null,
      "outputs": []
    },
    {
      "cell_type": "markdown",
      "source": [
        "JAVA"
      ],
      "metadata": {
        "id": "Mz8rEGmt9ySn"
      }
    },
    {
      "cell_type": "code",
      "source": [
        "// 1\n",
        "class Animal {\n",
        "    void hablar() {\n",
        "        System.out.println(\"Este es un animal\");\n",
        "    }\n",
        "}\n",
        "\n",
        "class Perro extends Animal {}\n",
        "\n",
        "public class Main1 {\n",
        "    public static void main(String[] args) {\n",
        "        Perro perro = new Perro();\n",
        "        perro.hablar();\n",
        "    }\n",
        "}"
      ],
      "metadata": {
        "id": "HTp9ssEY977_"
      },
      "execution_count": null,
      "outputs": []
    },
    {
      "cell_type": "code",
      "source": [
        "// 2\n",
        "class Persona {\n",
        "    String nombre;\n",
        "\n",
        "    Persona(String nombre) {\n",
        "        this.nombre = nombre;\n",
        "    }\n",
        "}\n",
        "\n",
        "class Estudiante extends Persona {\n",
        "    Estudiante(String nombre) {\n",
        "        super(nombre);\n",
        "    }\n",
        "}\n",
        "\n",
        "public class Main2 {\n",
        "    public static void main(String[] args) {\n",
        "        Estudiante e = new Estudiante(\"Laura\");\n",
        "        System.out.println(e.nombre);\n",
        "    }\n",
        "}"
      ],
      "metadata": {
        "id": "m023CgKa-IQH"
      },
      "execution_count": null,
      "outputs": []
    },
    {
      "cell_type": "code",
      "source": [
        "// 3\n",
        "class Vehiculo {\n",
        "    void arrancar() {\n",
        "        System.out.println(\"Vehículo encendido\");\n",
        "    }\n",
        "}\n",
        "\n",
        "class Moto extends Vehiculo {\n",
        "    @Override\n",
        "    void arrancar() {\n",
        "        System.out.println(\"Moto encendida\");\n",
        "    }\n",
        "}\n",
        "\n",
        "public class Main3 {\n",
        "    public static void main(String[] args) {\n",
        "        Moto m = new Moto();\n",
        "        m.arrancar();\n",
        "    }\n",
        "}"
      ],
      "metadata": {
        "id": "ASe7Wi16-KKP"
      },
      "execution_count": null,
      "outputs": []
    },
    {
      "cell_type": "code",
      "source": [
        "// 4\n",
        "class Empleado {\n",
        "    void trabajar() {\n",
        "        System.out.println(\"Empleado trabajando\");\n",
        "    }\n",
        "}\n",
        "\n",
        "class Gerente extends Empleado {\n",
        "    @Override\n",
        "    void trabajar() {\n",
        "        System.out.println(\"Gerente organizando\");\n",
        "    }\n",
        "}\n",
        "\n",
        "class Obrero extends Empleado {\n",
        "    @Override\n",
        "    void trabajar() {\n",
        "        System.out.println(\"Obrero construyendo\");\n",
        "    }\n",
        "}\n",
        "\n",
        "public class Main4 {\n",
        "    public static void main(String[] args) {\n",
        "        Gerente g = new Gerente();\n",
        "        Obrero o = new Obrero();\n",
        "        g.trabajar();\n",
        "        o.trabajar();\n",
        "    }\n",
        "}"
      ],
      "metadata": {
        "id": "WcpMy9OQ-Lgv"
      },
      "execution_count": null,
      "outputs": []
    },
    {
      "cell_type": "code",
      "source": [
        "// 5\n",
        "class Producto {\n",
        "    String nombre;\n",
        "    double precio;\n",
        "\n",
        "    Producto(String nombre, double precio) {\n",
        "        this.nombre = nombre;\n",
        "        this.precio = precio;\n",
        "    }\n",
        "}\n",
        "\n",
        "class Libro extends Producto {\n",
        "    Libro(String nombre, double precio) {\n",
        "        super(nombre, precio);\n",
        "    }\n",
        "}\n",
        "\n",
        "public class Main5 {\n",
        "    public static void main(String[] args) {\n",
        "        Libro l = new Libro(\"Java Básico\", 45000);\n",
        "        System.out.println(\"Nombre: \" + l.nombre + \", Precio: \" + l.precio);\n",
        "    }\n",
        "}"
      ],
      "metadata": {
        "id": "cW97R0Dg-N-n"
      },
      "execution_count": null,
      "outputs": []
    },
    {
      "cell_type": "code",
      "source": [
        "// 6\n",
        "class Persona {\n",
        "    void saludar() {\n",
        "        System.out.println(\"Hola\");\n",
        "    }\n",
        "}\n",
        "\n",
        "class Profesor extends Persona {\n",
        "    void enseñar() {\n",
        "        System.out.println(\"Estoy enseñando\");\n",
        "    }\n",
        "}\n",
        "\n",
        "public class Main6 {\n",
        "    public static void main(String[] args) {\n",
        "        Profesor p = new Profesor();\n",
        "        p.saludar();\n",
        "        p.enseñar();\n",
        "    }\n",
        "}"
      ],
      "metadata": {
        "id": "MN1t1pui-PlQ"
      },
      "execution_count": null,
      "outputs": []
    },
    {
      "cell_type": "code",
      "source": [
        "// 7\n",
        "class Animal {\n",
        "    void sonido() {\n",
        "        System.out.println(\"Sonido genérico\");\n",
        "    }\n",
        "}\n",
        "\n",
        "class Gato extends Animal {\n",
        "    @Override\n",
        "    void sonido() {\n",
        "        super.sonido();\n",
        "        System.out.println(\"Miau\");\n",
        "    }\n",
        "}\n",
        "\n",
        "public class Main7 {\n",
        "    public static void main(String[] args) {\n",
        "        Gato g = new Gato();\n",
        "        g.sonido();\n",
        "    }\n",
        "}"
      ],
      "metadata": {
        "id": "p7jKuhDz-RQu"
      },
      "execution_count": null,
      "outputs": []
    },
    {
      "cell_type": "code",
      "source": [
        "// 8\n",
        "class Computadora {\n",
        "    void encender() {\n",
        "        System.out.println(\"Encendiendo computadora\");\n",
        "    }\n",
        "}\n",
        "\n",
        "class Portatil extends Computadora {}\n",
        "\n",
        "public class Main8 {\n",
        "    public static void main(String[] args) {\n",
        "        Portatil p = new Portatil();\n",
        "        p.encender();\n",
        "    }\n",
        "}"
      ],
      "metadata": {
        "id": "4pICvuzM-S_W"
      },
      "execution_count": null,
      "outputs": []
    },
    {
      "cell_type": "code",
      "source": [
        "// 9\n",
        "class Cuenta {\n",
        "    double saldo;\n",
        "\n",
        "    Cuenta(double saldo) {\n",
        "        this.saldo = saldo;\n",
        "    }\n",
        "}\n",
        "\n",
        "class CuentaAhorro extends Cuenta {\n",
        "    CuentaAhorro(double saldo) {\n",
        "        super(saldo);\n",
        "    }\n",
        "}\n",
        "\n",
        "public class Main9 {\n",
        "    public static void main(String[] args) {\n",
        "        CuentaAhorro c = new CuentaAhorro(100000);\n",
        "        System.out.println(\"Saldo: \" + c.saldo);\n",
        "    }\n",
        "}"
      ],
      "metadata": {
        "id": "5i4Nh-mK-U6P"
      },
      "execution_count": null,
      "outputs": []
    },
    {
      "cell_type": "code",
      "source": [
        "// 10\n",
        "class SerVivo {\n",
        "    void respirar() {\n",
        "        System.out.println(\"Respirando...\");\n",
        "    }\n",
        "}\n",
        "\n",
        "class Humano extends SerVivo {}\n",
        "\n",
        "public class Main10 {\n",
        "    public static void main(String[] args) {\n",
        "        Humano h = new Humano();\n",
        "        h.respirar();\n",
        "    }\n",
        "}"
      ],
      "metadata": {
        "id": "vbJ9wba9-XgI"
      },
      "execution_count": null,
      "outputs": []
    }
  ]
}