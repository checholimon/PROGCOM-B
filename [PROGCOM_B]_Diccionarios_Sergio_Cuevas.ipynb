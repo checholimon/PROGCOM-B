{
  "nbformat": 4,
  "nbformat_minor": 0,
  "metadata": {
    "colab": {
      "provenance": []
    },
    "kernelspec": {
      "name": "python3",
      "display_name": "Python 3"
    },
    "language_info": {
      "name": "python"
    }
  },
  "cells": [
    {
      "cell_type": "code",
      "source": [
        "# Programa que valide si tres números pueden formar un triángulo y de qué tipo es.\n",
        "\n",
        "def tipo_triangulo(a, b, c):\n",
        "\n",
        "  if a + b <= c or a + c <= b or b + c <= a:\n",
        "      return {'valido': False, 'tipo': None}\n",
        "\n",
        "  if a == b == c:\n",
        "      return {'valido': True, 'tipo': 'equilatero'}\n",
        "  elif a == b or a == c or b == c:\n",
        "      return {'valido': True, 'tipo': 'isosceles'}\n",
        "  else:\n",
        "      return {'valido': True, 'tipo': 'escaleno'}\n",
        "\n",
        "lado1 = int(input(\"Ingrese el primer lado: \"))\n",
        "lado2 = int(input(\"Ingrese el segundo lado: \"))\n",
        "lado3 = int(input(\"Ingrese el tercer lado: \"))\n",
        "\n",
        "resultado = tipo_triangulo(lado1, lado2, lado3)\n",
        "\n",
        "\n",
        "if resultado['valido']:\n",
        "    print(f\"Los lados {lado1}, {lado2}, {lado3} forman un triángulo {resultado['tipo']}.\")\n",
        "else:\n",
        "    print(f\"Los lados {lado1}, {lado2}, {lado3} no forman un triángulo válido.\")"
      ],
      "metadata": {
        "colab": {
          "base_uri": "https://localhost:8080/"
        },
        "id": "mTPhTzCpo9km",
        "outputId": "f99ff76d-3231-4661-9d3d-d835615b3345"
      },
      "execution_count": 6,
      "outputs": [
        {
          "output_type": "stream",
          "name": "stdout",
          "text": [
            "Ingrese el primer lado: 4\n",
            "Ingrese el segundo lado: 5\n",
            "Ingrese el tercer lado: 6\n",
            "Los lados 4, 5, 6 forman un triángulo escaleno.\n"
          ]
        }
      ]
    },
    {
      "cell_type": "code",
      "source": [
        "# Programa que muestre la tabla de multiplicar de un número hasta el 10.\n",
        "\n",
        "def tabla_multiplicar(numero):\n",
        "\n",
        "  tabla = {}\n",
        "  for i in range(1, 11):\n",
        "    tabla[i] = numero * i\n",
        "\n",
        "  print(f\"Tabla de multiplicar del {numero}:\")\n",
        "  for i, resultado in tabla.items():\n",
        "    print(f\"{numero} x {i} = {resultado}\")\n",
        "\n",
        "num = int(input(\"Ingrese un número para ver su tabla de multiplicar: \"))\n",
        "\n",
        "tabla_multiplicar(num)"
      ],
      "metadata": {
        "colab": {
          "base_uri": "https://localhost:8080/"
        },
        "id": "8mjmnbKCpkEW",
        "outputId": "f7cbc0f6-f509-4987-be83-e4b60706d662"
      },
      "execution_count": 15,
      "outputs": [
        {
          "output_type": "stream",
          "name": "stdout",
          "text": [
            "Ingrese un número para ver su tabla de multiplicar: 6\n",
            "Tabla de multiplicar del 6:\n",
            "6 x 1 = 6\n",
            "6 x 2 = 12\n",
            "6 x 3 = 18\n",
            "6 x 4 = 24\n",
            "6 x 5 = 30\n",
            "6 x 6 = 36\n",
            "6 x 7 = 42\n",
            "6 x 8 = 48\n",
            "6 x 9 = 54\n",
            "6 x 10 = 60\n"
          ]
        }
      ]
    },
    {
      "cell_type": "code",
      "source": [
        "# Programa que calcule la suma de números naturales hasta n.\n",
        "\n",
        "def suma_naturales_diccionario(n):\n",
        "    suma = {}\n",
        "\n",
        "    def calcular_suma(k):\n",
        "        if k == 0:\n",
        "            return 0\n",
        "        if k in suma:\n",
        "            return suma[k]\n",
        "\n",
        "        suma[k] = k + calcular_suma(k - 1)\n",
        "        return suma[k]\n",
        "\n",
        "    return calcular_suma(n)\n",
        "\n",
        "\n",
        "numero = int(input(\"Ingrese un número: \"))\n",
        "resultado = suma_naturales_diccionario(numero)\n",
        "print(f\"La suma de los números naturales hasta {numero} es: {resultado}\")\n"
      ],
      "metadata": {
        "colab": {
          "base_uri": "https://localhost:8080/"
        },
        "id": "x-8EFYaDr6Oc",
        "outputId": "655f462a-833d-4423-b3a5-ce8c01882cb6"
      },
      "execution_count": 19,
      "outputs": [
        {
          "output_type": "stream",
          "name": "stdout",
          "text": [
            "Ingrese un número: 5\n",
            "La suma de los números naturales hasta 5 es: 15\n"
          ]
        }
      ]
    },
    {
      "cell_type": "code",
      "source": [
        "# Programa que calcule el factorial de un número. Recuerda que el factorial de 0 es 1 y no existen factoriales negativos.\n",
        "\n",
        "def factorial_diccionario(n):\n",
        "    if n < 0:\n",
        "        return \"No existen factoriales de números negativos.\"\n",
        "\n",
        "    factorial = {0: 1, 1: 1}\n",
        "\n",
        "    def calcular_factorial(k):\n",
        "        if k in factorial:\n",
        "            return factorial[k]\n",
        "\n",
        "        factorial[k] = k * calcular_factorial(k - 1)\n",
        "        return factorial[k]\n",
        "\n",
        "    return calcular_factorial(n)\n",
        "\n",
        "numero = int(input(\"Ingrese un número: \"))\n",
        "resultado = factorial_diccionario(numero)\n",
        "print(f\"El factorial de {numero} es: {resultado}\")\n"
      ],
      "metadata": {
        "colab": {
          "base_uri": "https://localhost:8080/"
        },
        "id": "s6TISGlhsYtC",
        "outputId": "d7bc8c8a-2598-4090-fbb5-062815f346a9"
      },
      "execution_count": 20,
      "outputs": [
        {
          "output_type": "stream",
          "name": "stdout",
          "text": [
            "Ingrese un número: 4\n",
            "El factorial de 4 es: 24\n"
          ]
        }
      ]
    },
    {
      "cell_type": "code",
      "source": [
        "# Programa que muestre los primeros n números de la serie Fibonacci.\n",
        "\n",
        "def fibonacci_diccionario(n):\n",
        "    if n <= 0:\n",
        "        return \"Ingrese un número mayor a 0.\"\n",
        "\n",
        "    fibo = {0: 0, 1: 1}\n",
        "\n",
        "    def calcular_fibonacci(k):\n",
        "        if k in fibo:\n",
        "            return fibo[k]\n",
        "\n",
        "        fibo[k] = calcular_fibonacci(k - 1) + calcular_fibonacci(k - 2)\n",
        "        return fibo[k]\n",
        "\n",
        "    serie = [calcular_fibonacci(i) for i in range(n)]\n",
        "\n",
        "    return serie\n",
        "\n",
        "numero = int(input(\"Ingrese la cantidad de números de la serie Fibonacci que desea ver: \"))\n",
        "resultado = fibonacci_diccionario(numero)\n",
        "print(f\"Los primeros {numero} números de la serie Fibonacci son: {resultado}\")\n"
      ],
      "metadata": {
        "colab": {
          "base_uri": "https://localhost:8080/"
        },
        "id": "izGrBKs5suyT",
        "outputId": "d52d6f05-764d-4774-fc5b-34d56e2d709c"
      },
      "execution_count": 22,
      "outputs": [
        {
          "output_type": "stream",
          "name": "stdout",
          "text": [
            "Ingrese la cantidad de números de la serie Fibonacci que desea ver: 6\n",
            "Los primeros 6 números de la serie Fibonacci son: [0, 1, 1, 2, 3, 5]\n"
          ]
        }
      ]
    },
    {
      "cell_type": "code",
      "source": [
        "# Programa que adivine entre un conjunto de diez colores definidos por el usuario, con un máximo de 10 intentos.\n",
        "\n",
        "import random\n",
        "\n",
        "def adivinar_color():\n",
        "    print(\"Define 10 colores diferentes:\")\n",
        "    colores = {}\n",
        "\n",
        "    for i in range(1, 11):\n",
        "        color = input(f\"Ingrese el color {i}: \").strip().lower()\n",
        "        colores[i] = color\n",
        "\n",
        "    colores_lista = list(colores.values())\n",
        "\n",
        "    intentos = 0\n",
        "    while intentos < 10:\n",
        "        intento_color = random.choice(colores_lista)\n",
        "        print(f\"\\nIntento {intentos + 1}: ¿Es el color {intento_color}?\")\n",
        "\n",
        "        respuesta = input(\"Responde 'si' o 'no': \").strip().lower()\n",
        "\n",
        "        if respuesta == \"si\":\n",
        "            print(f\"¡He adivinado! El color es {intento_color} 🎉\")\n",
        "            return\n",
        "        else:\n",
        "            print(\"Voy a intentarlo de nuevo...\")\n",
        "\n",
        "        intentos += 1\n",
        "\n",
        "    print(\"No he podido adivinar el color en 10 intentos.\")\n",
        "\n",
        "adivinar_color()\n"
      ],
      "metadata": {
        "colab": {
          "base_uri": "https://localhost:8080/"
        },
        "id": "OwiDjaxhtD9q",
        "outputId": "da1a689f-4ca8-45f6-dade-241e2e6f4a1d"
      },
      "execution_count": 25,
      "outputs": [
        {
          "output_type": "stream",
          "name": "stdout",
          "text": [
            "Define 10 colores diferentes:\n",
            "Ingrese el color 1: verde\n",
            "Ingrese el color 2: rojo\n",
            "Ingrese el color 3: rosado\n",
            "Ingrese el color 4: azul\n",
            "Ingrese el color 5: amarillo\n",
            "Ingrese el color 6: negro\n",
            "Ingrese el color 7: blanco\n",
            "Ingrese el color 8: morado\n",
            "Ingrese el color 9: gris\n",
            "Ingrese el color 10: celeste\n",
            "\n",
            "Intento 1: ¿Es el color morado?\n",
            "Responde 'si' o 'no': no\n",
            "Voy a intentarlo de nuevo...\n",
            "\n",
            "Intento 2: ¿Es el color amarillo?\n",
            "Responde 'si' o 'no': no\n",
            "Voy a intentarlo de nuevo...\n",
            "\n",
            "Intento 3: ¿Es el color verde?\n",
            "Responde 'si' o 'no': no\n",
            "Voy a intentarlo de nuevo...\n",
            "\n",
            "Intento 4: ¿Es el color amarillo?\n",
            "Responde 'si' o 'no': no\n",
            "Voy a intentarlo de nuevo...\n",
            "\n",
            "Intento 5: ¿Es el color azul?\n",
            "Responde 'si' o 'no': no\n",
            "Voy a intentarlo de nuevo...\n",
            "\n",
            "Intento 6: ¿Es el color rojo?\n",
            "Responde 'si' o 'no': no\n",
            "Voy a intentarlo de nuevo...\n",
            "\n",
            "Intento 7: ¿Es el color negro?\n",
            "Responde 'si' o 'no': no\n",
            "Voy a intentarlo de nuevo...\n",
            "\n",
            "Intento 8: ¿Es el color rosado?\n",
            "Responde 'si' o 'no': no\n",
            "Voy a intentarlo de nuevo...\n",
            "\n",
            "Intento 9: ¿Es el color celeste?\n",
            "Responde 'si' o 'no': no\n",
            "Voy a intentarlo de nuevo...\n",
            "\n",
            "Intento 10: ¿Es el color negro?\n",
            "Responde 'si' o 'no': no\n",
            "Voy a intentarlo de nuevo...\n",
            "No he podido adivinar el color en 10 intentos.\n"
          ]
        }
      ]
    },
    {
      "cell_type": "code",
      "source": [
        "# Programa que muestre los números pares del 1 al 100.\n",
        "\n",
        "def numeros_pares():\n",
        "    pares = {}\n",
        "\n",
        "    for i in range(1, 101):\n",
        "        if i % 2 == 0:\n",
        "            pares[i] = \"par\"\n",
        "\n",
        "    print(\"Números pares del 1 al 100:\")\n",
        "    for numero in pares.keys():\n",
        "        print(numero, end=\" \")\n",
        "\n",
        "numeros_pares()\n"
      ],
      "metadata": {
        "colab": {
          "base_uri": "https://localhost:8080/"
        },
        "id": "pgJ8oCUZt3np",
        "outputId": "d28ec4a4-a761-43be-966a-5f6112a0451d"
      },
      "execution_count": 26,
      "outputs": [
        {
          "output_type": "stream",
          "name": "stdout",
          "text": [
            "Números pares del 1 al 100:\n",
            "2 4 6 8 10 12 14 16 18 20 22 24 26 28 30 32 34 36 38 40 42 44 46 48 50 52 54 56 58 60 62 64 66 68 70 72 74 76 78 80 82 84 86 88 90 92 94 96 98 100 "
          ]
        }
      ]
    },
    {
      "cell_type": "code",
      "source": [
        "# Programa que calcule la suma de los dígitos de un número.\n",
        "\n",
        "def suma_digitos(numero):\n",
        "    numero_str = str(abs(numero))\n",
        "    digitos = {i: int(d) for i, d in enumerate(numero_str)}\n",
        "\n",
        "    suma = sum(digitos.values())\n",
        "\n",
        "    print(f\"Dígitos del número: {list(digitos.values())}\")\n",
        "    print(f\"Suma de los dígitos: {suma}\")\n",
        "\n",
        "num = int(input(\"Ingrese un número: \"))\n",
        "suma_digitos(num)\n"
      ],
      "metadata": {
        "colab": {
          "base_uri": "https://localhost:8080/"
        },
        "id": "GwySqNjuuYKh",
        "outputId": "c0d8309a-816f-4adb-e90d-a1a42b900ac4"
      },
      "execution_count": 28,
      "outputs": [
        {
          "output_type": "stream",
          "name": "stdout",
          "text": [
            "Ingrese un número: 6896\n",
            "Dígitos del número: [6, 8, 9, 6]\n",
            "Suma de los dígitos: 29\n"
          ]
        }
      ]
    },
    {
      "cell_type": "code",
      "source": [
        "# Programa que determine si un número es primo.\n",
        "\n",
        "def es_primo(numero):\n",
        "    if numero < 2:\n",
        "        return False\n",
        "\n",
        "    factores = {i: numero % i == 0 for i in range(2, numero)}\n",
        "\n",
        "    return not any(factores.values())\n",
        "\n",
        "num = int(input(\"Ingrese un número: \"))\n",
        "\n",
        "if es_primo(num):\n",
        "    print(f\"{num} es un número primo.\")\n",
        "else:\n",
        "    print(f\"{num} no es un número primo.\")\n"
      ],
      "metadata": {
        "colab": {
          "base_uri": "https://localhost:8080/"
        },
        "id": "4rE8CueRuqXp",
        "outputId": "9a6adeda-9423-4267-bfba-33f45c87efb5"
      },
      "execution_count": 29,
      "outputs": [
        {
          "output_type": "stream",
          "name": "stdout",
          "text": [
            "Ingrese un número: 7\n",
            "7 es un número primo.\n"
          ]
        }
      ]
    },
    {
      "cell_type": "code",
      "source": [
        "# Programa que muestre el patrón de un triángulo con asteriscos.\n",
        "\n",
        "def triangulo_asteriscos(n):\n",
        "    patron = {i: '*' * i for i in range(1, n + 1)}\n",
        "\n",
        "    for fila in patron.values():\n",
        "        print(fila)\n",
        "\n",
        "num_filas = int(input(\"Ingrese el número de filas para el triángulo: \"))\n",
        "\n",
        "triangulo_asteriscos(num_filas)\n"
      ],
      "metadata": {
        "colab": {
          "base_uri": "https://localhost:8080/"
        },
        "id": "bqIqHNUivIqg",
        "outputId": "e83cd74b-d33a-47c1-eed3-c41fd8a52e74"
      },
      "execution_count": 30,
      "outputs": [
        {
          "output_type": "stream",
          "name": "stdout",
          "text": [
            "Ingrese el número de filas para el triángulo: 6\n",
            "*\n",
            "**\n",
            "***\n",
            "****\n",
            "*****\n",
            "******\n"
          ]
        }
      ]
    },
    {
      "cell_type": "code",
      "source": [
        "# Programa que calcule la potencia de un número sin usar el operador **.\n",
        "\n",
        "def calcular_potencia(base, exponente):\n",
        "    potencias = {0: 1}\n",
        "\n",
        "    for i in range(1, abs(exponente) + 1):\n",
        "        potencias[i] = potencias[i - 1] * base\n",
        "\n",
        "    return potencias[abs(exponente)] if exponente >= 0 else 1 / potencias[abs(exponente)]\n",
        "\n",
        "base = float(input(\"Ingrese la base: \"))\n",
        "exponente = int(input(\"Ingrese el exponente: \"))\n",
        "\n",
        "resultado = calcular_potencia(base, exponente)\n",
        "print(f\"{base}^{exponente} = {resultado}\")\n"
      ],
      "metadata": {
        "colab": {
          "base_uri": "https://localhost:8080/"
        },
        "id": "9gxDf6X-vYpI",
        "outputId": "c3b206c5-2d37-4973-a2bd-90c0723ced77"
      },
      "execution_count": 31,
      "outputs": [
        {
          "output_type": "stream",
          "name": "stdout",
          "text": [
            "Ingrese la base: 5\n",
            "Ingrese el exponente: 6\n",
            "5.0^6 = 15625.0\n"
          ]
        }
      ]
    }
  ]
}