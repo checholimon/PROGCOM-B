{
  "nbformat": 4,
  "nbformat_minor": 0,
  "metadata": {
    "colab": {
      "provenance": []
    },
    "kernelspec": {
      "name": "python3",
      "display_name": "Python 3"
    },
    "language_info": {
      "name": "python"
    }
  },
  "cells": [
    {
      "cell_type": "markdown",
      "source": [
        "#* 20\n",
        "\n",
        "\n"
      ],
      "metadata": {
        "id": "m1HEJT9epkmL"
      }
    },
    {
      "cell_type": "code",
      "execution_count": 4,
      "metadata": {
        "colab": {
          "base_uri": "https://localhost:8080/"
        },
        "id": "sQccXCQPl0Q-",
        "outputId": "8e2d5c38-fccc-479c-cd19-4602bf3dd524"
      },
      "outputs": [
        {
          "output_type": "stream",
          "name": "stdout",
          "text": [
            "Intento 1/10 - Adivina el color: rojo\n",
            "Incorrecto, intenta de nuevo.\n",
            "Intento 2/10 - Adivina el color: verde\n",
            "Incorrecto, intenta de nuevo.\n",
            "Intento 3/10 - Adivina el color: azul\n",
            "Incorrecto, intenta de nuevo.\n",
            "Intento 4/10 - Adivina el color: rosa\n",
            "Incorrecto, intenta de nuevo.\n",
            "Intento 5/10 - Adivina el color: negro\n",
            "Incorrecto, intenta de nuevo.\n",
            "Intento 6/10 - Adivina el color: blanco\n",
            "Incorrecto, intenta de nuevo.\n",
            "Intento 7/10 - Adivina el color: gris\n",
            "Incorrecto, intenta de nuevo.\n",
            "Intento 8/10 - Adivina el color: naranja\n",
            "Incorrecto, intenta de nuevo.\n",
            "Intento 9/10 - Adivina el color: amarillo\n",
            "Incorrecto, intenta de nuevo.\n",
            "Intento 10/10 - Adivina el color: verde\n",
            "Incorrecto, intenta de nuevo.\n",
            "No tiened mas intentos. El color era morado.\n"
          ]
        }
      ],
      "source": [
        "# Programa que adivine entre un conjunto de diez colores definidos por el usuario, con un máximo de 10 intentos. (Lambda)\n",
        "\n",
        "import random\n",
        "\n",
        "colores = [\"rojo\", \"azul\", \"verde\", \"amarillo\", \"negro\", \"blanco\", \"morado\", \"naranja\", \"rosa\", \"gris\"]\n",
        "color_secreto = random.choice(colores)\n",
        "adivinar = lambda intento: intento.lower() == color_secreto\n",
        "for i in range(10):\n",
        "    intento = input(f\"Intento {i+1}/10 - Adivina el color: \")\n",
        "    if adivinar(intento):\n",
        "        print(\"Correcto, adivinaste el color.\")\n",
        "        break\n",
        "    else:\n",
        "        print(\"Incorrecto, intenta de nuevo.\")\n",
        "else:\n",
        "    print(f\"No tiened mas intentos. El color era {color_secreto}.\")\n"
      ]
    },
    {
      "cell_type": "code",
      "source": [
        "# Programa que adivine entre un conjunto de diez colores definidos por el usuario, con un máximo de 10 intentos. (Anónimas)\n",
        "\n",
        "import random\n",
        "\n",
        "colores = [\"rojo\", \"azul\", \"verde\", \"amarillo\", \"negro\", \"blanco\", \"morado\", \"naranja\", \"rosa\", \"gris\"]\n",
        "color_secreto = random.choice(colores)\n",
        "for i in range(10):\n",
        "    intento = input(f\"Intento {i+1}/10 - Adivina el color: \")\n",
        "    if (lambda x: x.lower() == color_secreto)(intento):\n",
        "        print(\"¡Correcto! Adivinaste el color.\")\n",
        "        break\n",
        "    else:\n",
        "        print(\"Incorrecto, intenta de nuevo.\")\n",
        "else:\n",
        "    print(f\"Se acabaron los intentos. El color era {color_secreto}.\")\n"
      ],
      "metadata": {
        "colab": {
          "base_uri": "https://localhost:8080/"
        },
        "id": "5sP1MxMonzxl",
        "outputId": "d5a4ba62-7e7b-4bc3-9a01-536c334d9362"
      },
      "execution_count": 5,
      "outputs": [
        {
          "output_type": "stream",
          "name": "stdout",
          "text": [
            "Intento 1/10 - Adivina el color: rojo\n",
            "Incorrecto, intenta de nuevo.\n",
            "Intento 2/10 - Adivina el color: verde\n",
            "Incorrecto, intenta de nuevo.\n",
            "Intento 3/10 - Adivina el color: azul\n",
            "Incorrecto, intenta de nuevo.\n",
            "Intento 4/10 - Adivina el color: negro\n",
            "Incorrecto, intenta de nuevo.\n",
            "Intento 5/10 - Adivina el color: rosa\n",
            "Incorrecto, intenta de nuevo.\n",
            "Intento 6/10 - Adivina el color: morado\n",
            "Incorrecto, intenta de nuevo.\n",
            "Intento 7/10 - Adivina el color: gris\n",
            "Incorrecto, intenta de nuevo.\n",
            "Intento 8/10 - Adivina el color: blanco\n",
            "Incorrecto, intenta de nuevo.\n",
            "Intento 9/10 - Adivina el color: amarillo\n",
            "¡Correcto! Adivinaste el color.\n"
          ]
        }
      ]
    },
    {
      "cell_type": "markdown",
      "source": [
        "#21"
      ],
      "metadata": {
        "id": "ISGHFjBCqUGS"
      }
    },
    {
      "cell_type": "code",
      "source": [
        "# Programa que muestre los números pares del 1 al 100. (Lambda)\n",
        "pares = list(filter(lambda x: x % 2 == 0, range(1, 101)))\n",
        "\n",
        "print(pares)"
      ],
      "metadata": {
        "colab": {
          "base_uri": "https://localhost:8080/"
        },
        "id": "88NCJcbFqVDy",
        "outputId": "4774111c-b5c7-4081-9ec6-36ea0b8905d1"
      },
      "execution_count": 10,
      "outputs": [
        {
          "output_type": "stream",
          "name": "stdout",
          "text": [
            "[2, 4, 6, 8, 10, 12, 14, 16, 18, 20, 22, 24, 26, 28, 30, 32, 34, 36, 38, 40, 42, 44, 46, 48, 50, 52, 54, 56, 58, 60, 62, 64, 66, 68, 70, 72, 74, 76, 78, 80, 82, 84, 86, 88, 90, 92, 94, 96, 98, 100]\n"
          ]
        }
      ]
    },
    {
      "cell_type": "code",
      "source": [
        "# Programa que muestre los números pares del 1 al 100. (Anónimas)\n",
        "print(list(filter(lambda x: x % 2 == 0, range(1, 101))))"
      ],
      "metadata": {
        "colab": {
          "base_uri": "https://localhost:8080/"
        },
        "id": "EHBSVNqOqtaa",
        "outputId": "beeffc91-35a1-47f8-942a-819d0cb08095"
      },
      "execution_count": 11,
      "outputs": [
        {
          "output_type": "stream",
          "name": "stdout",
          "text": [
            "[2, 4, 6, 8, 10, 12, 14, 16, 18, 20, 22, 24, 26, 28, 30, 32, 34, 36, 38, 40, 42, 44, 46, 48, 50, 52, 54, 56, 58, 60, 62, 64, 66, 68, 70, 72, 74, 76, 78, 80, 82, 84, 86, 88, 90, 92, 94, 96, 98, 100]\n"
          ]
        }
      ]
    },
    {
      "cell_type": "markdown",
      "source": [
        "#22"
      ],
      "metadata": {
        "id": "ZKnHisEepqDL"
      }
    },
    {
      "cell_type": "code",
      "source": [
        "# Programa que calcule la suma de los dígitos de un número. (Lambda)\n",
        "num = input(\"Ingresa un número: \")\n",
        "\n",
        "suma_digitos = lambda n: sum(map(int, n))\n",
        "\n",
        "print(f\"La suma de los dígitos es: {suma_digitos(num)}\")\n"
      ],
      "metadata": {
        "colab": {
          "base_uri": "https://localhost:8080/"
        },
        "id": "YjN6LzMloi4M",
        "outputId": "0c12904e-efd1-4145-e744-558ff0792137"
      },
      "execution_count": 6,
      "outputs": [
        {
          "output_type": "stream",
          "name": "stdout",
          "text": [
            "Ingresa un número: 46\n",
            "La suma de los dígitos es: 10\n"
          ]
        }
      ]
    },
    {
      "cell_type": "code",
      "source": [
        "# Programa que calcule la suma de los dígitos de un número. (Anónimas)\n",
        "num = input(\"Ingresa un número: \")\n",
        "\n",
        "print(f\"La suma de los dígitos es: {(lambda n: sum(map(int, n)))(num)}\")\n"
      ],
      "metadata": {
        "colab": {
          "base_uri": "https://localhost:8080/"
        },
        "id": "gSPum2y-o9UM",
        "outputId": "fed8a9ba-264b-42ec-dd44-0a83a41caad0"
      },
      "execution_count": 7,
      "outputs": [
        {
          "output_type": "stream",
          "name": "stdout",
          "text": [
            "Ingresa un número: 78\n",
            "La suma de los dígitos es: 15\n"
          ]
        }
      ]
    },
    {
      "cell_type": "markdown",
      "source": [
        "#23"
      ],
      "metadata": {
        "id": "SpzM6Lo2psBr"
      }
    },
    {
      "cell_type": "code",
      "source": [
        "# Programa que determine si un número es primo. (Lambda)\n",
        "num = int(input(\"Ingresa un número: \"))\n",
        "\n",
        "es_primo = lambda n: n > 1 and all(n % i != 0 for i in range(2, int(n**0.5) + 1))\n",
        "\n",
        "print(f\"El número {num} {'es primo' if es_primo(num) else 'no es primo'}.\")\n"
      ],
      "metadata": {
        "colab": {
          "base_uri": "https://localhost:8080/"
        },
        "id": "Smlv0mevpJmu",
        "outputId": "81a3eca0-41d1-400c-d84d-19c5ed6314ca"
      },
      "execution_count": 8,
      "outputs": [
        {
          "output_type": "stream",
          "name": "stdout",
          "text": [
            "Ingresa un número: 67\n",
            "El número 67 es primo.\n"
          ]
        }
      ]
    },
    {
      "cell_type": "code",
      "source": [
        "# Programa que determine si un número es primo. (Anónimo)\n",
        "print(\n",
        "    f\"El número {(num := int(input('Ingresa un número: ')))} \"\n",
        "    f\"{'es primo' if (lambda n: n > 1 and all(n % i != 0 for i in range(2, int(n**0.5) + 1)))(num) else 'no es primo'}.\")\n"
      ],
      "metadata": {
        "colab": {
          "base_uri": "https://localhost:8080/"
        },
        "id": "Axi4_X1up4B7",
        "outputId": "6f526e53-ebc5-4793-8592-c627e1b29703"
      },
      "execution_count": 9,
      "outputs": [
        {
          "output_type": "stream",
          "name": "stdout",
          "text": [
            "Ingresa un número: 78\n",
            "El número 78 no es primo.\n"
          ]
        }
      ]
    },
    {
      "cell_type": "markdown",
      "source": [
        "#24"
      ],
      "metadata": {
        "id": "blzXvBYtqEMr"
      }
    },
    {
      "cell_type": "code",
      "source": [
        "# Programa que muestre el patrón de un triángulo con asteriscos. (Lambda)\n",
        "n = int(input(\"Ingresa la altura del triángulo: \"))\n",
        "\n",
        "list(map(lambda i: print(\"*\" * (i + 1)), range(n)))\n"
      ],
      "metadata": {
        "colab": {
          "base_uri": "https://localhost:8080/"
        },
        "id": "LCA2RMVGqFVa",
        "outputId": "30a971b2-def6-4158-88da-4b1f732604d3"
      },
      "execution_count": 14,
      "outputs": [
        {
          "output_type": "stream",
          "name": "stdout",
          "text": [
            "Ingresa la altura del triángulo: 7\n",
            "*\n",
            "**\n",
            "***\n",
            "****\n",
            "*****\n",
            "******\n",
            "*******\n"
          ]
        },
        {
          "output_type": "execute_result",
          "data": {
            "text/plain": [
              "[None, None, None, None, None, None, None]"
            ]
          },
          "metadata": {},
          "execution_count": 14
        }
      ]
    },
    {
      "cell_type": "code",
      "source": [
        "# Programa que muestre el patrón de un triángulo con asteriscos. (Anónimas)\n",
        "n = int(input(\"Ingresa la altura del triángulo: \"))\n",
        "\n",
        "print('\\n'.join(map(lambda i: '*' * (i + 1), range(n))))\n"
      ],
      "metadata": {
        "colab": {
          "base_uri": "https://localhost:8080/"
        },
        "id": "XlIjUaEDrT0a",
        "outputId": "13042c63-1f83-419b-ab26-479a03b84247"
      },
      "execution_count": 13,
      "outputs": [
        {
          "output_type": "stream",
          "name": "stdout",
          "text": [
            "Ingresa la altura del triángulo: 9\n",
            "*\n",
            "**\n",
            "***\n",
            "****\n",
            "*****\n",
            "******\n",
            "*******\n",
            "********\n",
            "*********\n"
          ]
        }
      ]
    },
    {
      "cell_type": "markdown",
      "source": [
        "#25"
      ],
      "metadata": {
        "id": "cGzmHCpcrjbx"
      }
    },
    {
      "cell_type": "code",
      "source": [
        "# Programa que calcule la potencia de un número sin usar el operador **. (Lambda)\n",
        "print((lambda b, e: 1 if e == 0 else b * (lambda b, e: (lambda f: f(f, b, e - 1))(lambda self, b, e: 1 if e == 0 else b * self(self, b, e - 1)))(b, e))(int(input(\"Ingresa la base: \")), int(input(\"Ingresa el exponente: \"))))"
      ],
      "metadata": {
        "colab": {
          "base_uri": "https://localhost:8080/"
        },
        "id": "tszkpjK2rksJ",
        "outputId": "3b263255-3f3b-4c45-a006-2695f278d531"
      },
      "execution_count": 22,
      "outputs": [
        {
          "output_type": "stream",
          "name": "stdout",
          "text": [
            "Ingresa la base: 5\n",
            "Ingresa el exponente: 6\n",
            "15625\n"
          ]
        }
      ]
    },
    {
      "cell_type": "code",
      "source": [
        "# Programa que calcule la potencia de un número sin usar el operador **. (Anónimas)\n",
        "print((lambda b, e: (lambda f: f(f, b, e))(lambda self, b, e: 1 if e == 0 else b * self(self, b, e - 1)))(int(input(\"Ingresa la base: \")), int(input(\"Ingresa el exponente: \"))))"
      ],
      "metadata": {
        "colab": {
          "base_uri": "https://localhost:8080/"
        },
        "id": "LYaRqUbbr7BS",
        "outputId": "8224c36d-6636-40da-b296-c7bb65e49261"
      },
      "execution_count": 23,
      "outputs": [
        {
          "output_type": "stream",
          "name": "stdout",
          "text": [
            "Ingresa la base: 7\n",
            "Ingresa el exponente: 9\n",
            "40353607\n"
          ]
        }
      ]
    },
    {
      "cell_type": "markdown",
      "source": [
        "#26"
      ],
      "metadata": {
        "id": "9BOyCqupswL5"
      }
    },
    {
      "cell_type": "code",
      "source": [
        "# Programa que muestre todas las tablas de multiplicar del 1 al 10. (Lambda)\n",
        "tablas = lambda: list(map(lambda x: print(f\"\\nTabla del {x}:\\n\" + \"\\n\".join(map(lambda y: f\"{x} x {y} = {x*y}\", range(1, 11)))), range(1, 11)))\n",
        "\n",
        "tablas()\n"
      ],
      "metadata": {
        "colab": {
          "base_uri": "https://localhost:8080/"
        },
        "id": "BaSVoRw8sxFI",
        "outputId": "280eb389-f137-469c-a94f-55031125372e"
      },
      "execution_count": 24,
      "outputs": [
        {
          "output_type": "stream",
          "name": "stdout",
          "text": [
            "\n",
            "Tabla del 1:\n",
            "1 x 1 = 1\n",
            "1 x 2 = 2\n",
            "1 x 3 = 3\n",
            "1 x 4 = 4\n",
            "1 x 5 = 5\n",
            "1 x 6 = 6\n",
            "1 x 7 = 7\n",
            "1 x 8 = 8\n",
            "1 x 9 = 9\n",
            "1 x 10 = 10\n",
            "\n",
            "Tabla del 2:\n",
            "2 x 1 = 2\n",
            "2 x 2 = 4\n",
            "2 x 3 = 6\n",
            "2 x 4 = 8\n",
            "2 x 5 = 10\n",
            "2 x 6 = 12\n",
            "2 x 7 = 14\n",
            "2 x 8 = 16\n",
            "2 x 9 = 18\n",
            "2 x 10 = 20\n",
            "\n",
            "Tabla del 3:\n",
            "3 x 1 = 3\n",
            "3 x 2 = 6\n",
            "3 x 3 = 9\n",
            "3 x 4 = 12\n",
            "3 x 5 = 15\n",
            "3 x 6 = 18\n",
            "3 x 7 = 21\n",
            "3 x 8 = 24\n",
            "3 x 9 = 27\n",
            "3 x 10 = 30\n",
            "\n",
            "Tabla del 4:\n",
            "4 x 1 = 4\n",
            "4 x 2 = 8\n",
            "4 x 3 = 12\n",
            "4 x 4 = 16\n",
            "4 x 5 = 20\n",
            "4 x 6 = 24\n",
            "4 x 7 = 28\n",
            "4 x 8 = 32\n",
            "4 x 9 = 36\n",
            "4 x 10 = 40\n",
            "\n",
            "Tabla del 5:\n",
            "5 x 1 = 5\n",
            "5 x 2 = 10\n",
            "5 x 3 = 15\n",
            "5 x 4 = 20\n",
            "5 x 5 = 25\n",
            "5 x 6 = 30\n",
            "5 x 7 = 35\n",
            "5 x 8 = 40\n",
            "5 x 9 = 45\n",
            "5 x 10 = 50\n",
            "\n",
            "Tabla del 6:\n",
            "6 x 1 = 6\n",
            "6 x 2 = 12\n",
            "6 x 3 = 18\n",
            "6 x 4 = 24\n",
            "6 x 5 = 30\n",
            "6 x 6 = 36\n",
            "6 x 7 = 42\n",
            "6 x 8 = 48\n",
            "6 x 9 = 54\n",
            "6 x 10 = 60\n",
            "\n",
            "Tabla del 7:\n",
            "7 x 1 = 7\n",
            "7 x 2 = 14\n",
            "7 x 3 = 21\n",
            "7 x 4 = 28\n",
            "7 x 5 = 35\n",
            "7 x 6 = 42\n",
            "7 x 7 = 49\n",
            "7 x 8 = 56\n",
            "7 x 9 = 63\n",
            "7 x 10 = 70\n",
            "\n",
            "Tabla del 8:\n",
            "8 x 1 = 8\n",
            "8 x 2 = 16\n",
            "8 x 3 = 24\n",
            "8 x 4 = 32\n",
            "8 x 5 = 40\n",
            "8 x 6 = 48\n",
            "8 x 7 = 56\n",
            "8 x 8 = 64\n",
            "8 x 9 = 72\n",
            "8 x 10 = 80\n",
            "\n",
            "Tabla del 9:\n",
            "9 x 1 = 9\n",
            "9 x 2 = 18\n",
            "9 x 3 = 27\n",
            "9 x 4 = 36\n",
            "9 x 5 = 45\n",
            "9 x 6 = 54\n",
            "9 x 7 = 63\n",
            "9 x 8 = 72\n",
            "9 x 9 = 81\n",
            "9 x 10 = 90\n",
            "\n",
            "Tabla del 10:\n",
            "10 x 1 = 10\n",
            "10 x 2 = 20\n",
            "10 x 3 = 30\n",
            "10 x 4 = 40\n",
            "10 x 5 = 50\n",
            "10 x 6 = 60\n",
            "10 x 7 = 70\n",
            "10 x 8 = 80\n",
            "10 x 9 = 90\n",
            "10 x 10 = 100\n"
          ]
        },
        {
          "output_type": "execute_result",
          "data": {
            "text/plain": [
              "[None, None, None, None, None, None, None, None, None, None]"
            ]
          },
          "metadata": {},
          "execution_count": 24
        }
      ]
    },
    {
      "cell_type": "code",
      "source": [
        "# Programa que muestre todas las tablas de multiplicar del 1 al 10. (Anónimas)\n",
        "(lambda: list(map(lambda x: print(f\"\\nTabla del {x}:\\n\" + \"\\n\".join(map(lambda y: f\"{x} x {y} = {x*y}\", range(1, 11)))), range(1, 11))))()"
      ],
      "metadata": {
        "colab": {
          "base_uri": "https://localhost:8080/"
        },
        "id": "Cc4iISxos_9R",
        "outputId": "03500968-1af4-4f99-a87d-5f5d2268ee95"
      },
      "execution_count": 25,
      "outputs": [
        {
          "output_type": "stream",
          "name": "stdout",
          "text": [
            "\n",
            "Tabla del 1:\n",
            "1 x 1 = 1\n",
            "1 x 2 = 2\n",
            "1 x 3 = 3\n",
            "1 x 4 = 4\n",
            "1 x 5 = 5\n",
            "1 x 6 = 6\n",
            "1 x 7 = 7\n",
            "1 x 8 = 8\n",
            "1 x 9 = 9\n",
            "1 x 10 = 10\n",
            "\n",
            "Tabla del 2:\n",
            "2 x 1 = 2\n",
            "2 x 2 = 4\n",
            "2 x 3 = 6\n",
            "2 x 4 = 8\n",
            "2 x 5 = 10\n",
            "2 x 6 = 12\n",
            "2 x 7 = 14\n",
            "2 x 8 = 16\n",
            "2 x 9 = 18\n",
            "2 x 10 = 20\n",
            "\n",
            "Tabla del 3:\n",
            "3 x 1 = 3\n",
            "3 x 2 = 6\n",
            "3 x 3 = 9\n",
            "3 x 4 = 12\n",
            "3 x 5 = 15\n",
            "3 x 6 = 18\n",
            "3 x 7 = 21\n",
            "3 x 8 = 24\n",
            "3 x 9 = 27\n",
            "3 x 10 = 30\n",
            "\n",
            "Tabla del 4:\n",
            "4 x 1 = 4\n",
            "4 x 2 = 8\n",
            "4 x 3 = 12\n",
            "4 x 4 = 16\n",
            "4 x 5 = 20\n",
            "4 x 6 = 24\n",
            "4 x 7 = 28\n",
            "4 x 8 = 32\n",
            "4 x 9 = 36\n",
            "4 x 10 = 40\n",
            "\n",
            "Tabla del 5:\n",
            "5 x 1 = 5\n",
            "5 x 2 = 10\n",
            "5 x 3 = 15\n",
            "5 x 4 = 20\n",
            "5 x 5 = 25\n",
            "5 x 6 = 30\n",
            "5 x 7 = 35\n",
            "5 x 8 = 40\n",
            "5 x 9 = 45\n",
            "5 x 10 = 50\n",
            "\n",
            "Tabla del 6:\n",
            "6 x 1 = 6\n",
            "6 x 2 = 12\n",
            "6 x 3 = 18\n",
            "6 x 4 = 24\n",
            "6 x 5 = 30\n",
            "6 x 6 = 36\n",
            "6 x 7 = 42\n",
            "6 x 8 = 48\n",
            "6 x 9 = 54\n",
            "6 x 10 = 60\n",
            "\n",
            "Tabla del 7:\n",
            "7 x 1 = 7\n",
            "7 x 2 = 14\n",
            "7 x 3 = 21\n",
            "7 x 4 = 28\n",
            "7 x 5 = 35\n",
            "7 x 6 = 42\n",
            "7 x 7 = 49\n",
            "7 x 8 = 56\n",
            "7 x 9 = 63\n",
            "7 x 10 = 70\n",
            "\n",
            "Tabla del 8:\n",
            "8 x 1 = 8\n",
            "8 x 2 = 16\n",
            "8 x 3 = 24\n",
            "8 x 4 = 32\n",
            "8 x 5 = 40\n",
            "8 x 6 = 48\n",
            "8 x 7 = 56\n",
            "8 x 8 = 64\n",
            "8 x 9 = 72\n",
            "8 x 10 = 80\n",
            "\n",
            "Tabla del 9:\n",
            "9 x 1 = 9\n",
            "9 x 2 = 18\n",
            "9 x 3 = 27\n",
            "9 x 4 = 36\n",
            "9 x 5 = 45\n",
            "9 x 6 = 54\n",
            "9 x 7 = 63\n",
            "9 x 8 = 72\n",
            "9 x 9 = 81\n",
            "9 x 10 = 90\n",
            "\n",
            "Tabla del 10:\n",
            "10 x 1 = 10\n",
            "10 x 2 = 20\n",
            "10 x 3 = 30\n",
            "10 x 4 = 40\n",
            "10 x 5 = 50\n",
            "10 x 6 = 60\n",
            "10 x 7 = 70\n",
            "10 x 8 = 80\n",
            "10 x 9 = 90\n",
            "10 x 10 = 100\n"
          ]
        },
        {
          "output_type": "execute_result",
          "data": {
            "text/plain": [
              "[None, None, None, None, None, None, None, None, None, None]"
            ]
          },
          "metadata": {},
          "execution_count": 25
        }
      ]
    },
    {
      "cell_type": "markdown",
      "source": [
        "#27"
      ],
      "metadata": {
        "id": "c4pG9LaXtRwh"
      }
    },
    {
      "cell_type": "code",
      "source": [
        "# Programa que encuentre todos los números perfectos hasta n. (Lambda)\n",
        "n = int(input(\"Ingresa un número límite: \"))\n",
        "\n",
        "es_perfecto = lambda num: num > 1 and sum(filter(lambda x: num % x == 0, range(1, num))) == num\n",
        "\n",
        "print(f\"Números perfectos hasta {n}: {list(filter(es_perfecto, range(1, n+1)))}\")"
      ],
      "metadata": {
        "colab": {
          "base_uri": "https://localhost:8080/"
        },
        "id": "tGmYBzpItS1_",
        "outputId": "90e27b4b-608b-4d2b-91be-d07425522977"
      },
      "execution_count": 26,
      "outputs": [
        {
          "output_type": "stream",
          "name": "stdout",
          "text": [
            "Ingresa un número límite: 666\n",
            "Números perfectos hasta 666: [6, 28, 496]\n"
          ]
        }
      ]
    },
    {
      "cell_type": "code",
      "source": [
        "# Programa que encuentre todos los números perfectos hasta n. (Anónimas)\n",
        "print((lambda n: list(filter(lambda num: num > 1 and sum(filter(lambda x: num % x == 0, range(1, num))) == num, range(1, n+1))))(int(input(\"Ingresa un número límite: \"))))"
      ],
      "metadata": {
        "colab": {
          "base_uri": "https://localhost:8080/"
        },
        "id": "kQHRDUtitjYg",
        "outputId": "4ce402e8-cb54-4bfd-ce31-b716d1b04f1c"
      },
      "execution_count": 27,
      "outputs": [
        {
          "output_type": "stream",
          "name": "stdout",
          "text": [
            "Ingresa un número límite: 777\n",
            "[6, 28, 496]\n"
          ]
        }
      ]
    },
    {
      "cell_type": "markdown",
      "source": [
        "#28"
      ],
      "metadata": {
        "id": "Jjyv85Bxtt7A"
      }
    },
    {
      "cell_type": "code",
      "source": [
        "# Programa que genere un patrón de diamante con asteriscos. (Lambda)\n",
        "n = int(input(\"Ingresa un número para el tamaño del diamante: \"))\n",
        "\n",
        "n += 1 if n % 2 == 0 else 0\n",
        "\n",
        "diamante = lambda n: \"\\n\".join(\n",
        "    list(map(lambda i: \" \" * abs((n // 2) - i) + \"*\" * (n - 2 * abs((n // 2) - i)), range(n))))\n",
        "\n",
        "print(diamante(n))\n"
      ],
      "metadata": {
        "colab": {
          "base_uri": "https://localhost:8080/"
        },
        "id": "-MWADbETtu8H",
        "outputId": "40fbdf40-5371-4682-a013-09edf6f503b8"
      },
      "execution_count": 34,
      "outputs": [
        {
          "output_type": "stream",
          "name": "stdout",
          "text": [
            "Ingresa un número para el tamaño del diamante: 25\n",
            "            *\n",
            "           ***\n",
            "          *****\n",
            "         *******\n",
            "        *********\n",
            "       ***********\n",
            "      *************\n",
            "     ***************\n",
            "    *****************\n",
            "   *******************\n",
            "  *********************\n",
            " ***********************\n",
            "*************************\n",
            " ***********************\n",
            "  *********************\n",
            "   *******************\n",
            "    *****************\n",
            "     ***************\n",
            "      *************\n",
            "       ***********\n",
            "        *********\n",
            "         *******\n",
            "          *****\n",
            "           ***\n",
            "            *\n"
          ]
        }
      ]
    },
    {
      "cell_type": "code",
      "source": [
        "# Programa que genere un patrón de diamante con asteriscos. (Anónimas)\n",
        "print((lambda n: (lambda n: \"\\n\".join(map(lambda i: \" \" * abs((n // 2) - i) + \"*\" * (n - 2 * abs((n // 2) - i)), range(n))))(n + 1 if n % 2 == 0 else n))(int(input(\"Ingresa un número para el tamaño del diamante: \"))))"
      ],
      "metadata": {
        "colab": {
          "base_uri": "https://localhost:8080/"
        },
        "id": "xowl2WeHuVtQ",
        "outputId": "d553cf9e-d13c-422b-ef1a-800654d5c946"
      },
      "execution_count": 32,
      "outputs": [
        {
          "output_type": "stream",
          "name": "stdout",
          "text": [
            "Ingresa un número para el tamaño del diamante: 6\n",
            "   *\n",
            "  ***\n",
            " *****\n",
            "*******\n",
            " *****\n",
            "  ***\n",
            "   *\n"
          ]
        }
      ]
    },
    {
      "cell_type": "markdown",
      "source": [
        "#29\n"
      ],
      "metadata": {
        "id": "RVSXZzQwurln"
      }
    },
    {
      "cell_type": "code",
      "source": [
        "# Programa que encuentre todos los números Armstrong hasta n. (Lambda)\n",
        "n = int(input(\"Ingresa un número límite: \"))\n",
        "\n",
        "es_armstrong = lambda num: num == sum(map(lambda d: int(d) ** len(str(num)), str(num)))\n",
        "\n",
        "print(f\"Números Armstrong hasta {n}: {list(filter(es_armstrong, range(1, n+1)))}\")"
      ],
      "metadata": {
        "colab": {
          "base_uri": "https://localhost:8080/"
        },
        "id": "sHc80zfDuvUn",
        "outputId": "4fbf6259-475f-40da-e184-e6807d43081f"
      },
      "execution_count": 35,
      "outputs": [
        {
          "output_type": "stream",
          "name": "stdout",
          "text": [
            "Ingresa un número límite: 666\n",
            "Números Armstrong hasta 666: [1, 2, 3, 4, 5, 6, 7, 8, 9, 153, 370, 371, 407]\n"
          ]
        }
      ]
    },
    {
      "cell_type": "code",
      "source": [
        "# Programa que encuentre todos los números Armstrong hasta n. (Anónimas)\n",
        "print((lambda n: list(filter(lambda num: num == sum(map(lambda d: int(d) ** len(str(num)), str(num))), range(1, n+1))))(int(input(\"Ingresa un número límite: \"))))"
      ],
      "metadata": {
        "colab": {
          "base_uri": "https://localhost:8080/"
        },
        "id": "bfgDc17Gu_9h",
        "outputId": "a548133a-620c-4874-feae-babce91d14c8"
      },
      "execution_count": 36,
      "outputs": [
        {
          "output_type": "stream",
          "name": "stdout",
          "text": [
            "Ingresa un número límite: 777\n",
            "[1, 2, 3, 4, 5, 6, 7, 8, 9, 153, 370, 371, 407]\n"
          ]
        }
      ]
    },
    {
      "cell_type": "markdown",
      "source": [
        "#30"
      ],
      "metadata": {
        "id": "fXtSTv6kvMfG"
      }
    },
    {
      "cell_type": "code",
      "source": [
        "# Programa que simule un reloj digital mostrando horas, minutos y segundos durante un período específico. (Lambda)\n",
        "import time\n",
        "\n",
        "tiempo_ejecucion = int(input(\"Ingresa el tiempo de ejecución en segundos: \"))\n",
        "\n",
        "formato_hora = lambda h, m, s: f\"{h:02}:{m:02}:{s:02}\"\n",
        "\n",
        "reloj = lambda t: [print(formato_hora(h, m, s)) or time.sleep(1)\n",
        "                   for h in range(24)\n",
        "                   for m in range(60)\n",
        "                   for s in range(60) if (h * 3600 + m * 60 + s) < t]\n",
        "\n",
        "reloj(tiempo_ejecucion)\n"
      ],
      "metadata": {
        "colab": {
          "base_uri": "https://localhost:8080/"
        },
        "id": "1lLpCCwgvNbf",
        "outputId": "be64cf8c-0b1f-4a44-87a2-732bae73a424"
      },
      "execution_count": 38,
      "outputs": [
        {
          "output_type": "stream",
          "name": "stdout",
          "text": [
            "Ingresa el tiempo de ejecución en segundos: 10\n",
            "00:00:00\n",
            "00:00:01\n",
            "00:00:02\n",
            "00:00:03\n",
            "00:00:04\n",
            "00:00:05\n",
            "00:00:06\n",
            "00:00:07\n",
            "00:00:08\n",
            "00:00:09\n"
          ]
        },
        {
          "output_type": "execute_result",
          "data": {
            "text/plain": [
              "[None, None, None, None, None, None, None, None, None, None]"
            ]
          },
          "metadata": {},
          "execution_count": 38
        }
      ]
    },
    {
      "cell_type": "code",
      "source": [
        "# Programa que simule un reloj digital mostrando horas, minutos y segundos durante un período específico. (Anónimas)\n",
        "import time\n",
        "\n",
        "print((lambda t: [print(f\"{h:02}:{m:02}:{s:02}\") or time.sleep(1)\n",
        "                  for h in range(24)\n",
        "                  for m in range(60)\n",
        "                  for s in range(60) if (h * 3600 + m * 60 + s) < t])\n",
        "      (int(input(\"Ingresa el tiempo de ejecución en segundos: \"))))\n"
      ],
      "metadata": {
        "colab": {
          "base_uri": "https://localhost:8080/"
        },
        "id": "b4Tt5S-bvsd-",
        "outputId": "95a9fdbf-7e90-4778-8ab6-e95689bf3eaf"
      },
      "execution_count": 39,
      "outputs": [
        {
          "output_type": "stream",
          "name": "stdout",
          "text": [
            "Ingresa el tiempo de ejecución en segundos: 10\n",
            "00:00:00\n",
            "00:00:01\n",
            "00:00:02\n",
            "00:00:03\n",
            "00:00:04\n",
            "00:00:05\n",
            "00:00:06\n",
            "00:00:07\n",
            "00:00:08\n",
            "00:00:09\n",
            "[None, None, None, None, None, None, None, None, None, None]\n"
          ]
        }
      ]
    }
  ]
}